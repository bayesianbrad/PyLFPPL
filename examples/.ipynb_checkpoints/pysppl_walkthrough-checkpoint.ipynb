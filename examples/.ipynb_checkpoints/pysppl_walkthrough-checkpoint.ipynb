{
 "cells": [
  {
   "cell_type": "markdown",
   "metadata": {},
   "source": [
    "# PySPPL: Introduction"
   ]
  },
  {
   "cell_type": "markdown",
   "metadata": {},
   "source": [
    "## PySPPL imports"
   ]
  },
  {
   "cell_type": "code",
   "execution_count": 1,
   "metadata": {},
   "outputs": [],
   "source": [
    "%matplotlib inline\n",
    "from pyppl import compile_model \n",
    "from pyppl.utils.core import create_network_graph, display_graph\n"
   ]
  },
  {
   "cell_type": "markdown",
   "metadata": {},
   "source": [
    "## A statistical model with basic control-flow\n",
    "\n",
    "For fun, let us add some contextual data: Whether or not Alice decides to go to space is highly dependedent upon the number points Alice collects, which is dependent upon a draw from a centered normal distribution. If she draws a number greater than 0, then we observe that Alice gets 1.5 points and the likelihood she goes to space, given the 1.5 points is distributed by $\\mathcal{N}(1.5~|~x_1,1)$. However, if she draws a number less than or equal to 0, then her likelihood is quite different. She gains 1 point, but the likelihood that the distribution is centered around 1, is dependedent upon a random draw from a categorical distrubtion that spits out 0 with probability 0.1, 1 with probability 0.2, and 2 with probability 0.7. If we find that the value of the $x_1$ after the inference is greater than zero, then Alice goes to space, else she stays on Earth :-(\n",
    "\n",
    "\n",
    "$$ x_1 \\sim \\mathcal{N}(0,1) $$\n",
    "$$ x_2 \\sim \\mathcal{Cat}(0.1, 0.2, 0.7) $$\n",
    "we observe our data (\"points\")\n",
    "$$y_1 = 1.5 $$\n",
    "$$y_2 = 1 $$\n",
    "\n",
    "likelihood terms\n",
    "$$ y_1 = 1.5~|~x_1 = \\mathcal{N}(y_1~|~x_1,~1) $$\n",
    "$$ y_2 = 1~|~x_2 = \\mathcal{N}(y_2~|~x_2,~1) $$\n"
   ]
  },
  {
   "cell_type": "code",
   "execution_count": 2,
   "metadata": {},
   "outputs": [],
   "source": [
    "model_if_clojure=\"\"\"\n",
    "(let [x1 (sample (normal 0 1))\n",
    "      x2 (sample (categorical [0.1 0.2 0.7]))\n",
    "      y1 2\n",
    "      y2 4]\n",
    "  (if (> x1 0)\n",
    "    (observe (normal x1 1) y1)\n",
    "    (observe (normal x2 1) y2))\n",
    "  [x1 x2])\n",
    "\"\"\"\n",
    "\n",
    "\n",
    "compiled_clojure = compile_model(model_if_clojure, language='clojure')"
   ]
  },
  {
   "cell_type": "markdown",
   "metadata": {},
   "source": [
    "The compiler takes the above code and transforms it into a model class, from which the user can manipulate the program and interface with an inference engine. \n",
    "\n",
    "Here is a print out of the model class for the above model:"
   ]
  },
  {
   "cell_type": "code",
   "execution_count": 3,
   "metadata": {},
   "outputs": [
    {
     "name": "stdout",
     "output_type": "stream",
     "text": [
      "# 2018-06-11 16:33:33.157541\n",
      "import torch.distributions as dist\n",
      "from pyppl.aux.graph_plots import GraphPlotter as _GraphPlotter\n",
      "\n",
      "\n",
      "class Model(_GraphPlotter):\n",
      "\n",
      "\tdef __init__(self, vertices: set, arcs: set, data: set, conditionals: set):\n",
      "\t\tsuper().__init__()\n",
      "\t\tself.vertices = vertices\n",
      "\t\tself.arcs = arcs\n",
      "\t\tself.data = data\n",
      "\t\tself.conditionals = conditionals\n",
      "\t\n",
      "\tdef __repr__(self):\n",
      "\t\tV = '\\n'.join(sorted([repr(v) for v in self.vertices]))\n",
      "\t\tA = ', '.join(['({}, {})'.format(u.name, v.name) for (u, v) in self.arcs]) if len(self.arcs) > 0 else '  -'\n",
      "\t\tC = '\\n'.join(sorted([repr(v) for v in self.conditionals])) if len(self.conditionals) > 0 else '  -'\n",
      "\t\tD = '\\n'.join([repr(u) for u in self.data]) if len(self.data) > 0 else '  -'\n",
      "\t\tgraph = 'Vertices V:\\n{V}\\nArcs A:\\n  {A}\\n\\nConditions C:\\n{C}\\n\\nData D:\\n{D}\\n'.format(V=V, A=A, C=C, D=D)\n",
      "\t\tgraph = '#Vertices: {}, #Arcs: {}\\n'.format(len(self.vertices), len(self.arcs)) + graph\n",
      "\t\treturn graph\n",
      "\t\n",
      "\tdef gen_cond_bit_vector(self, state):\n",
      "\t\tresult = 0\n",
      "\t\tfor cond in self.conditionals:\n",
      "\t\t\tresult = cond.update_bit_vector(state, result)\n",
      "\t\treturn result\n",
      "\n",
      "\tdef gen_cond_vars(self):\n",
      "\t\treturn [c.name for c in self.conditionals]\n",
      "\n",
      "\tdef gen_cont_vars(self):\n",
      "\t\treturn [v.name for v in self.vertices if v.is_continuous and not v.is_conditional and v.is_sampled]\n",
      "\n",
      "\tdef gen_disc_vars(self):\n",
      "\t\treturn [v.name for v in self.vertices if v.is_discrete and v.is_sampled]\n",
      "\n",
      "\tdef gen_if_vars(self):\n",
      "\t\treturn [v.name for v in self.vertices if v.is_conditional and v.is_sampled and v.is_continuous]\n",
      "\n",
      "\tdef gen_log_pdf(self, state):\n",
      "\t\tlog_pdf = 0\n",
      "\t\tdst_ = dist.Normal(loc=0, scale=1)\n",
      "\t\tlog_pdf = log_pdf + dst_.log_pdf(state['x30001'])\n",
      "\t\tdst_ = dist.Categorical(probs=[0.1, 0.2, 0.7])\n",
      "\t\tlog_pdf = log_pdf + dst_.log_pdf(state['x30002'])\n",
      "\t\tstate['cond_30003'] = (state['x30001'] > 0)\n",
      "\t\tdst_ = dist.Normal(loc=state['x30001'], scale=1)\n",
      "\t\tif state['cond_30003']:\n",
      "\t\t\tlog_pdf = log_pdf + dst_.log_pdf(state['y30004'])\n",
      "\t\tdst_ = dist.Normal(loc=state['x30002'], scale=1)\n",
      "\t\tif not state['cond_30003']:\n",
      "\t\t\tlog_pdf = log_pdf + dst_.log_pdf(state['y30005'])\n",
      "\t\treturn log_pdf\n",
      "\n",
      "\tdef gen_log_pdf_transformed(self, state):\n",
      "\t\tlog_pdf = 0\n",
      "\t\tdst_ = dist.Normal(loc=0, scale=1, transformed=True)\n",
      "\t\tlog_pdf = log_pdf + dst_.log_pdf(state['x30001'])\n",
      "\t\tdst_ = dist.Categorical(probs=[0.1, 0.2, 0.7], transformed=True)\n",
      "\t\tlog_pdf = log_pdf + dst_.log_pdf(state['x30002'])\n",
      "\t\tstate['cond_30003'] = (state['x30001'] > 0)\n",
      "\t\tdst_ = dist.Normal(loc=state['x30001'], scale=1, transformed=True)\n",
      "\t\tif state['cond_30003']:\n",
      "\t\t\tlog_pdf = log_pdf + dst_.log_pdf(state['y30004'])\n",
      "\t\tdst_ = dist.Normal(loc=state['x30002'], scale=1, transformed=True)\n",
      "\t\tif not state['cond_30003']:\n",
      "\t\t\tlog_pdf = log_pdf + dst_.log_pdf(state['y30005'])\n",
      "\t\treturn log_pdf.sum()\n",
      "\n",
      "\tdef gen_prior_samples(self):\n",
      "\t\tstate = {}\n",
      "\t\tdst_ = dist.Normal(loc=0, scale=1)\n",
      "\t\tstate['x30001'] = dst_.sample()\n",
      "\t\tdst_ = dist.Categorical(probs=[0.1, 0.2, 0.7])\n",
      "\t\tstate['x30002'] = dst_.sample()\n",
      "\t\tstate['cond_30003'] = (state['x30001'] > 0)\n",
      "\t\tdst_ = dist.Normal(loc=state['x30001'], scale=1)\n",
      "\t\tstate['y30004'] = 2\n",
      "\t\tdst_ = dist.Normal(loc=state['x30002'], scale=1)\n",
      "\t\tstate['y30005'] = 4\n",
      "\t\treturn state\n",
      "\n",
      "\tdef get_arcs(self):\n",
      "\t\treturn self.arcs\n",
      "\n",
      "\tdef get_arcs_names(self):\n",
      "\t\treturn [(u.name, v.name) for (u, v) in self.arcs]\n",
      "\n",
      "\tdef get_conditions(self):\n",
      "\t\treturn self.conditionals\n",
      "\n",
      "\tdef get_vars(self):\n",
      "\t\treturn [v.name for v in self.vertices if v.is_sampled]\n",
      "\n",
      "\tdef get_vertices(self):\n",
      "\t\treturn self.vertices\n",
      "\n",
      "\tdef get_vertices_names(self):\n",
      "\t\treturn [v.name for v in self.vertices]\n",
      "\n",
      "\tdef is_torch_imported(self):\n",
      "\t\timport sys \n",
      "\t\tprint('torch' in sys.modules) \n",
      "\t\tprint(torch.__version__) \n",
      "\t\tprint(type(torch.tensor)) \n",
      "\t\timport inspect \n",
      "\t\tprint(inspect.getfile(torch))\n",
      "\n"
     ]
    }
   ],
   "source": [
    "print(compiled_clojure.code)"
   ]
  },
  {
   "cell_type": "markdown",
   "metadata": {},
   "source": [
    "We can change the models imported by changing the arguements in the `compile_model` function. By specification to our current application the compiler automatically imports `pytorch`. This can be easily removed by going into `ppl_graph_codeden` and then removing the `if not has_dist` block. "
   ]
  },
  {
   "cell_type": "code",
   "execution_count": 4,
   "metadata": {},
   "outputs": [
    {
     "name": "stdout",
     "output_type": "stream",
     "text": [
      "# 2018-06-11 16:33:33.722231\n",
      "import torch.distributions as dist\n",
      "from pyppl.aux.graph_plots import GraphPlotter as _GraphPlotter\n",
      "import matplotlib as mpl \n",
      "import numpy as np \n",
      "\n",
      "class Model(_GraphPlotter):\n",
      "\n",
      "\tdef __init__(self, vertices: set, arcs: set, data: set, conditionals: set):\n",
      "\t\tsuper().__init__()\n",
      "\t\tself.vertices = vertices\n",
      "\t\tself.arcs = arcs\n",
      "\t\tself.data = data\n",
      "\t\tself.conditionals = conditionals\n",
      "\t\n",
      "\tdef __repr__(self):\n",
      "\t\tV = '\\n'.join(sorted([repr(v) for v in self.vertices]))\n",
      "\t\tA = ', '.join(['({}, {})'.format(u.name, v.name) for (u, v) in self.arcs]) if len(self.arcs) > 0 else '  -'\n",
      "\t\tC = '\\n'.join(sorted([repr(v) for v in self.conditionals])) if len(self.conditionals) > 0 else '  -'\n",
      "\t\tD = '\\n'.join([repr(u) for u in self.data]) if len(self.data) > 0 else '  -'\n",
      "\t\tgraph = 'Vertices V:\\n{V}\\nArcs A:\\n  {A}\\n\\nConditions C:\\n{C}\\n\\nData D:\\n{D}\\n'.format(V=V, A=A, C=C, D=D)\n",
      "\t\tgraph = '#Vertices: {}, #Arcs: {}\\n'.format(len(self.vertices), len(self.arcs)) + graph\n",
      "\t\treturn graph\n",
      "\t\n",
      "\tdef gen_cond_bit_vector(self, state):\n",
      "\t\tresult = 0\n",
      "\t\tfor cond in self.conditionals:\n",
      "\t\t\tresult = cond.update_bit_vector(state, result)\n",
      "\t\treturn result\n",
      "\n",
      "\tdef gen_cond_vars(self):\n",
      "\t\treturn [c.name for c in self.conditionals]\n",
      "\n",
      "\tdef gen_cont_vars(self):\n",
      "\t\treturn [v.name for v in self.vertices if v.is_continuous and not v.is_conditional and v.is_sampled]\n",
      "\n",
      "\tdef gen_disc_vars(self):\n",
      "\t\treturn [v.name for v in self.vertices if v.is_discrete and v.is_sampled]\n",
      "\n",
      "\tdef gen_if_vars(self):\n",
      "\t\treturn [v.name for v in self.vertices if v.is_conditional and v.is_sampled and v.is_continuous]\n",
      "\n",
      "\tdef gen_log_pdf(self, state):\n",
      "\t\tlog_pdf = 0\n",
      "\t\tdst_ = dist.Normal(loc=0, scale=1)\n",
      "\t\tlog_pdf = log_pdf + dst_.log_pdf(state['x30001'])\n",
      "\t\tdst_ = dist.Categorical(probs=[0.1, 0.2, 0.7])\n",
      "\t\tlog_pdf = log_pdf + dst_.log_pdf(state['x30002'])\n",
      "\t\tstate['cond_30003'] = (state['x30001'] > 0)\n",
      "\t\tdst_ = dist.Normal(loc=state['x30001'], scale=1)\n",
      "\t\tif state['cond_30003']:\n",
      "\t\t\tlog_pdf = log_pdf + dst_.log_pdf(state['y30004'])\n",
      "\t\tdst_ = dist.Normal(loc=state['x30002'], scale=1)\n",
      "\t\tif not state['cond_30003']:\n",
      "\t\t\tlog_pdf = log_pdf + dst_.log_pdf(state['y30005'])\n",
      "\t\treturn log_pdf\n",
      "\n",
      "\tdef gen_log_pdf_transformed(self, state):\n",
      "\t\tlog_pdf = 0\n",
      "\t\tdst_ = dist.Normal(loc=0, scale=1, transformed=True)\n",
      "\t\tlog_pdf = log_pdf + dst_.log_pdf(state['x30001'])\n",
      "\t\tdst_ = dist.Categorical(probs=[0.1, 0.2, 0.7], transformed=True)\n",
      "\t\tlog_pdf = log_pdf + dst_.log_pdf(state['x30002'])\n",
      "\t\tstate['cond_30003'] = (state['x30001'] > 0)\n",
      "\t\tdst_ = dist.Normal(loc=state['x30001'], scale=1, transformed=True)\n",
      "\t\tif state['cond_30003']:\n",
      "\t\t\tlog_pdf = log_pdf + dst_.log_pdf(state['y30004'])\n",
      "\t\tdst_ = dist.Normal(loc=state['x30002'], scale=1, transformed=True)\n",
      "\t\tif not state['cond_30003']:\n",
      "\t\t\tlog_pdf = log_pdf + dst_.log_pdf(state['y30005'])\n",
      "\t\treturn log_pdf.sum()\n",
      "\n",
      "\tdef gen_prior_samples(self):\n",
      "\t\tstate = {}\n",
      "\t\tdst_ = dist.Normal(loc=0, scale=1)\n",
      "\t\tstate['x30001'] = dst_.sample()\n",
      "\t\tdst_ = dist.Categorical(probs=[0.1, 0.2, 0.7])\n",
      "\t\tstate['x30002'] = dst_.sample()\n",
      "\t\tstate['cond_30003'] = (state['x30001'] > 0)\n",
      "\t\tdst_ = dist.Normal(loc=state['x30001'], scale=1)\n",
      "\t\tstate['y30004'] = 2\n",
      "\t\tdst_ = dist.Normal(loc=state['x30002'], scale=1)\n",
      "\t\tstate['y30005'] = 4\n",
      "\t\treturn state\n",
      "\n",
      "\tdef get_arcs(self):\n",
      "\t\treturn self.arcs\n",
      "\n",
      "\tdef get_arcs_names(self):\n",
      "\t\treturn [(u.name, v.name) for (u, v) in self.arcs]\n",
      "\n",
      "\tdef get_conditions(self):\n",
      "\t\treturn self.conditionals\n",
      "\n",
      "\tdef get_vars(self):\n",
      "\t\treturn [v.name for v in self.vertices if v.is_sampled]\n",
      "\n",
      "\tdef get_vertices(self):\n",
      "\t\treturn self.vertices\n",
      "\n",
      "\tdef get_vertices_names(self):\n",
      "\t\treturn [v.name for v in self.vertices]\n",
      "\n",
      "\tdef is_torch_imported(self):\n",
      "\t\timport sys \n",
      "\t\tprint('torch' in sys.modules) \n",
      "\t\tprint(torch.__version__) \n",
      "\t\tprint(type(torch.tensor)) \n",
      "\t\timport inspect \n",
      "\t\tprint(inspect.getfile(torch))\n",
      "\n"
     ]
    }
   ],
   "source": [
    "compile_clojure = compile_model(model_if_clojure, language='clojure',imports='import matplotlib as mpl \\nimport numpy as np ')\n",
    "print(compile_clojure.code)"
   ]
  },
  {
   "cell_type": "markdown",
   "metadata": {},
   "source": [
    "## Printing the graphical model of the stastical model. "
   ]
  },
  {
   "cell_type": "code",
   "execution_count": 5,
   "metadata": {},
   "outputs": [
    {
     "data": {
      "image/png": "[encoded data removed]",
      "text/plain": [
       "<Figure size 432x288 with 1 Axes>"
      ]
     },
     "metadata": {},
     "output_type": "display_data"
    },
    {
     "data": {
      "text/plain": [
       "True"
      ]
     },
     "execution_count": 5,
     "metadata": {},
     "output_type": "execute_result"
    }
   ],
   "source": [
    "vertices = compiled_clojure.vertices\n",
    "create_network_graph(vertices=vertices)\n",
    "display_graph(vertices=vertices)"
   ]
  },
  {
   "cell_type": "markdown",
   "metadata": {},
   "source": [
    "We can see from the graph that $x_2$ is only dependent on the observation $y_2$, whereas $x_1$ can be affected by both observations. "
   ]
  },
  {
   "cell_type": "markdown",
   "metadata": {},
   "source": [
    "##  An example of an independent Categorical model\n",
    "\n",
    "The below model is completely impratical as a statistical model. It is purely here to show what happens when every variable in the model is independent."
   ]
  },
  {
   "cell_type": "code",
   "execution_count": 6,
   "metadata": {},
   "outputs": [],
   "source": [
    "model_categorical = \"\"\"\n",
    "(let[z (sample (categorical [0.7 0.15 0.15]))\n",
    "    z1 (sample (categorical [0.1 0.5 0.4]))\n",
    "    z2 (sample (categorical [0.2 0.2 0.6]))]\n",
    "    z z1 z2)\"\"\""
   ]
  },
  {
   "cell_type": "code",
   "execution_count": 7,
   "metadata": {},
   "outputs": [],
   "source": [
    "compiled_clojure = compile_model(model_categorical, language='clojure')\n",
    "# print(compiled_clojure.code)\n",
    "vertices = compiled_clojure.vertices"
   ]
  },
  {
   "cell_type": "markdown",
   "metadata": {},
   "source": [
    "### Plotting the depndence graph"
   ]
  },
  {
   "cell_type": "code",
   "execution_count": 8,
   "metadata": {},
   "outputs": [
    {
     "data": {
      "image/png": "[encoded data removed]",
      "text/plain": [
       "<Figure size 432x288 with 1 Axes>"
      ]
     },
     "metadata": {},
     "output_type": "display_data"
    },
    {
     "data": {
      "text/plain": [
       "True"
      ]
     },
     "execution_count": 8,
     "metadata": {},
     "output_type": "execute_result"
    }
   ],
   "source": [
    "create_network_graph(vertices=vertices)\n",
    "display_graph(vertices=vertices)"
   ]
  },
  {
   "cell_type": "markdown",
   "metadata": {},
   "source": [
    "As you can see, in this model there are no dependencies between the different latent variables."
   ]
  },
  {
   "cell_type": "markdown",
   "metadata": {},
   "source": [
    "## A Hidden Markov Model"
   ]
  },
  {
   "cell_type": "code",
   "execution_count": 9,
   "metadata": {},
   "outputs": [],
   "source": [
    "model_hmm_clojure=\"\"\"\n",
    "(defn data [n]\n",
    "  (let [points (vector 0.9 0.8 0.7 0.0 -0.025\n",
    "                       5.0 2.0 0.1 0.0 0.13\n",
    "                       0.45 6.0 0.2 0.3 -1.0 -1.0)]\n",
    "    (get points n)))\n",
    "\n",
    ";; Define the init, transition, and observation distributions\n",
    "(defn get-init-params []\n",
    "  (vector (/ 1. 3.) (/ 1. 3.) (/ 1. 3.)))\n",
    "\n",
    "(defn get-trans-params [k]\n",
    "  (nth (vector (vector 0.1  0.5  0.4 )\n",
    "               (vector 0.2  0.2  0.6 )\n",
    "               (vector 0.7 0.15 0.15 )) k))\n",
    "\n",
    "(defn get-obs-dist [k]\n",
    "  (nth (vector (normal -1. 1.)\n",
    "               (normal  1. 1.)\n",
    "               (normal  0. 1.)) k))\n",
    "\n",
    ";; Function to step through HMM and sample latent state\n",
    "(defn hmm-step [n states]\n",
    "  (let [next-state (sample (categorical (get-trans-params (last states))))]\n",
    "    (observe (get-obs-dist next-state) (data n))\n",
    "    (conj states next-state)))\n",
    "\n",
    ";; Loop through the data\n",
    "(let [init-state (sample (categorical (get-init-params)))]\n",
    "  (loop 16 (vector init-state) hmm-step))\n",
    "\n",
    "\"\"\""
   ]
  },
  {
   "cell_type": "markdown",
   "metadata": {},
   "source": [
    "### Plotting the dependencies graph"
   ]
  },
  {
   "cell_type": "code",
   "execution_count": 10,
   "metadata": {},
   "outputs": [
    {
     "data": {
      "image/png": "[encoded data removed]",
      "text/plain": [
       "<Figure size 432x288 with 1 Axes>"
      ]
     },
     "metadata": {},
     "output_type": "display_data"
    },
    {
     "data": {
      "text/plain": [
       "True"
      ]
     },
     "execution_count": 10,
     "metadata": {},
     "output_type": "execute_result"
    }
   ],
   "source": [
    "compiled_clojure = compile_model(model_hmm_clojure, language='clojure')\n",
    "vertices = compiled_clojure.vertices\n",
    "create_network_graph(vertices=vertices)\n",
    "display_graph(vertices=vertices)"
   ]
  },
  {
   "cell_type": "markdown",
   "metadata": {},
   "source": [
    "# PySPPL for python based models\n",
    "\n",
    "PySPPLs design allows one to use it with many different langauges, we so far have built an interface for both `python` and `clojure` code. \n",
    "\n",
    "\n",
    "## Bayesian linear regression model\n",
    "\n",
    "$$slope \\sim \\mathcal{N}(0, 10) $$\n",
    "$$bias \\sim \\mathcal{N}(0, 10) $$\n",
    "\n",
    "Observations\n",
    "$$y = [(1.,2.), (2.1,3.9), (3.,5.3)] $$\n",
    "Constructing the equation of the predicted curve\n",
    "$$z_n = slope \\times y[0,:] + bias$$\n",
    "The likelihood\n",
    "$$y = y[1,:]~|~z_n = \\mathcal{N}(y[1,:]~|~z_n,~\\mathbb{I}) $$   \n",
    "\n",
    "## The python SPPL code"
   ]
  },
  {
   "cell_type": "code",
   "execution_count": 19,
   "metadata": {},
   "outputs": [],
   "source": [
    "model_lr_python = \"\"\"import torch\n",
    "slope = sample(normal(torch.tensor(0.0), torch.tensor(10.0)))\n",
    "bias  = sample(normal(torch.tensor(0.0), torch.tensor(10.0)))\n",
    "y  = torch.tensor([[1.0, 2.1], [2.0, 3.9], [3.0, 5.3]])\n",
    "zn = slope*data[:,0] + bias # y  = mx + c\n",
    "observe(normal(zn, torch.ones(len(zn))),data[:,1])\n",
    "\n",
    "[slope, bias]\n",
    "\"\"\"\n",
    "\n",
    "compiled_python = compile_model(model_lr_python, language='python')"
   ]
  },
  {
   "cell_type": "markdown",
   "metadata": {},
   "source": [
    "## Code output"
   ]
  },
  {
   "cell_type": "code",
   "execution_count": 20,
   "metadata": {},
   "outputs": [
    {
     "name": "stdout",
     "output_type": "stream",
     "text": [
      "# 2018-06-11 17:24:17.559006\n",
      "import torch.distributions as dist\n",
      "from pyppl.aux.graph_plots import GraphPlotter as _GraphPlotter\n",
      "import torch\n",
      "\n",
      "class Model(_GraphPlotter):\n",
      "\n",
      "\tdef __init__(self, vertices: set, arcs: set, data: set, conditionals: set):\n",
      "\t\tsuper().__init__()\n",
      "\t\tself.vertices = vertices\n",
      "\t\tself.arcs = arcs\n",
      "\t\tself.data = data\n",
      "\t\tself.conditionals = conditionals\n",
      "\t\n",
      "\tdef __repr__(self):\n",
      "\t\tV = '\\n'.join(sorted([repr(v) for v in self.vertices]))\n",
      "\t\tA = ', '.join(['({}, {})'.format(u.name, v.name) for (u, v) in self.arcs]) if len(self.arcs) > 0 else '  -'\n",
      "\t\tC = '\\n'.join(sorted([repr(v) for v in self.conditionals])) if len(self.conditionals) > 0 else '  -'\n",
      "\t\tD = '\\n'.join([repr(u) for u in self.data]) if len(self.data) > 0 else '  -'\n",
      "\t\tgraph = 'Vertices V:\\n{V}\\nArcs A:\\n  {A}\\n\\nConditions C:\\n{C}\\n\\nData D:\\n{D}\\n'.format(V=V, A=A, C=C, D=D)\n",
      "\t\tgraph = '#Vertices: {}, #Arcs: {}\\n'.format(len(self.vertices), len(self.arcs)) + graph\n",
      "\t\treturn graph\n",
      "\t\n",
      "\tdef gen_cond_bit_vector(self, state):\n",
      "\t\tresult = 0\n",
      "\t\tfor cond in self.conditionals:\n",
      "\t\t\tresult = cond.update_bit_vector(state, result)\n",
      "\t\treturn result\n",
      "\n",
      "\tdef gen_cond_vars(self):\n",
      "\t\treturn [c.name for c in self.conditionals]\n",
      "\n",
      "\tdef gen_cont_vars(self):\n",
      "\t\treturn [v.name for v in self.vertices if v.is_continuous and not v.is_conditional and v.is_sampled]\n",
      "\n",
      "\tdef gen_disc_vars(self):\n",
      "\t\treturn [v.name for v in self.vertices if v.is_discrete and v.is_sampled]\n",
      "\n",
      "\tdef gen_if_vars(self):\n",
      "\t\treturn [v.name for v in self.vertices if v.is_conditional and v.is_sampled and v.is_continuous]\n",
      "\n",
      "\tdef gen_log_pdf(self, state):\n",
      "\t\tlog_pdf = 0\n",
      "\t\tdst_ = dist.Normal(loc=torch.tensor(0.0), scale=torch.tensor(10.0))\n",
      "\t\tlog_pdf = log_pdf + dst_.log_pdf(state['x30001'])\n",
      "\t\tlog_pdf = log_pdf + dst_.log_pdf(state['x30002'])\n",
      "\t\tdst_ = dist.Normal(loc=((state['x30001'] * state['data'][:,0]) + state['x30002']), scale=torch.ones(len(((state['x30001'] * state['data'][:,0]) + state['x30002']))))\n",
      "\t\tlog_pdf = log_pdf + dst_.log_pdf(state['y30003'])\n",
      "\t\treturn log_pdf\n",
      "\n",
      "\tdef gen_log_pdf_transformed(self, state):\n",
      "\t\tlog_pdf = 0\n",
      "\t\tdst_ = dist.Normal(loc=torch.tensor(0.0), scale=torch.tensor(10.0), transformed=True)\n",
      "\t\tlog_pdf = log_pdf + dst_.log_pdf(state['x30001'])\n",
      "\t\tlog_pdf = log_pdf + dst_.log_pdf(state['x30002'])\n",
      "\t\tdst_ = dist.Normal(loc=((state['x30001'] * state['data'][:,0]) + state['x30002']), scale=torch.ones(len(((state['x30001'] * state['data'][:,0]) + state['x30002']))), transformed=True)\n",
      "\t\tlog_pdf = log_pdf + dst_.log_pdf(state['y30003'])\n",
      "\t\treturn log_pdf.sum()\n",
      "\n",
      "\tdef gen_prior_samples(self):\n",
      "\t\tstate = {}\n",
      "\t\tdst_ = dist.Normal(loc=torch.tensor(0.0), scale=torch.tensor(10.0))\n",
      "\t\tstate['x30001'] = dst_.sample()\n",
      "\t\tstate['x30002'] = dst_.sample()\n",
      "\t\tdst_ = dist.Normal(loc=((state['x30001'] * state['data'][:,0]) + state['x30002']), scale=torch.ones(len(((state['x30001'] * state['data'][:,0]) + state['x30002']))))\n",
      "\t\tstate['y30003'] = state['data'][:,1]\n",
      "\t\treturn state\n",
      "\n",
      "\tdef get_arcs(self):\n",
      "\t\treturn self.arcs\n",
      "\n",
      "\tdef get_arcs_names(self):\n",
      "\t\treturn [(u.name, v.name) for (u, v) in self.arcs]\n",
      "\n",
      "\tdef get_conditions(self):\n",
      "\t\treturn self.conditionals\n",
      "\n",
      "\tdef get_vars(self):\n",
      "\t\treturn [v.name for v in self.vertices if v.is_sampled]\n",
      "\n",
      "\tdef get_vertices(self):\n",
      "\t\treturn self.vertices\n",
      "\n",
      "\tdef get_vertices_names(self):\n",
      "\t\treturn [v.name for v in self.vertices]\n",
      "\n",
      "\tdef is_torch_imported(self):\n",
      "\t\timport sys \n",
      "\t\tprint('torch' in sys.modules) \n",
      "\t\tprint(torch.__version__) \n",
      "\t\tprint(type(torch.tensor)) \n",
      "\t\timport inspect \n",
      "\t\tprint(inspect.getfile(torch))\n",
      "\n"
     ]
    }
   ],
   "source": [
    "print(compiled_python.code)"
   ]
  },
  {
   "cell_type": "markdown",
   "metadata": {},
   "source": [
    "## The dependency graph"
   ]
  },
  {
   "cell_type": "code",
   "execution_count": 21,
   "metadata": {},
   "outputs": [
    {
     "data": {
      "image/png": "[encoded data removed]",
      "text/plain": [
       "<Figure size 432x288 with 1 Axes>"
      ]
     },
     "metadata": {},
     "output_type": "display_data"
    },
    {
     "data": {
      "text/plain": [
       "True"
      ]
     },
     "execution_count": 21,
     "metadata": {},
     "output_type": "execute_result"
    }
   ],
   "source": [
    "vertices = compiled_python.vertices\n",
    "create_network_graph(vertices=vertices)\n",
    "display_graph(vertices=vertices)"
   ]
  },
  {
   "cell_type": "markdown",
   "metadata": {},
   "source": [
    "## Gaussian Mixture model"
   ]
  },
  {
   "cell_type": "code",
   "execution_count": 34,
   "metadata": {},
   "outputs": [],
   "source": [
    "model_gmm2 = \"\"\"\n",
    "import torch\n",
    "\n",
    "means  = 2\n",
    "samples  = 10\n",
    "y = [-2.0, -2.5, -1.7, -1.9, -2.2, 1.5, 2.2, 3.0, 1.2, 2.8,\n",
    "      -1.7, -1.3,  3.2,  0.8, -0.9, 0.3, 1.4, 2.1, 0.8, 1.9] \n",
    "ys = torch.tensor([y])\n",
    "pi = torch.tensor(0.5*torch.ones(samples,means))\n",
    "mus = sample(normal(torch.zeros(means,1), 2*torch.ones(means,1)))\n",
    "\n",
    "zn = sample(categorical(pi), sample_size=2)\n",
    "\n",
    "for i in range(samples):\n",
    "    index = (zn == i).nonzero()\n",
    "    observe(normal(mus[i]*torch.ones(len(index),1), 2*torch.ones(len(index),1)), ys[index])\n",
    "\"\"\"\n",
    "\n",
    "compiled_python = compile_model(model_gmm2, language='python')"
   ]
  },
  {
   "cell_type": "markdown",
   "metadata": {},
   "source": [
    "## The code output"
   ]
  },
  {
   "cell_type": "code",
   "execution_count": 35,
   "metadata": {},
   "outputs": [
    {
     "name": "stdout",
     "output_type": "stream",
     "text": [
      "# 2018-06-11 17:34:03.103944\n",
      "import torch.distributions as dist\n",
      "from pyppl.aux.graph_plots import GraphPlotter as _GraphPlotter\n",
      "import torch\n",
      "\n",
      "class Model(_GraphPlotter):\n",
      "\n",
      "\tdef __init__(self, vertices: set, arcs: set, data: set, conditionals: set):\n",
      "\t\tsuper().__init__()\n",
      "\t\tself.vertices = vertices\n",
      "\t\tself.arcs = arcs\n",
      "\t\tself.data = data\n",
      "\t\tself.conditionals = conditionals\n",
      "\t\n",
      "\tdef __repr__(self):\n",
      "\t\tV = '\\n'.join(sorted([repr(v) for v in self.vertices]))\n",
      "\t\tA = ', '.join(['({}, {})'.format(u.name, v.name) for (u, v) in self.arcs]) if len(self.arcs) > 0 else '  -'\n",
      "\t\tC = '\\n'.join(sorted([repr(v) for v in self.conditionals])) if len(self.conditionals) > 0 else '  -'\n",
      "\t\tD = '\\n'.join([repr(u) for u in self.data]) if len(self.data) > 0 else '  -'\n",
      "\t\tgraph = 'Vertices V:\\n{V}\\nArcs A:\\n  {A}\\n\\nConditions C:\\n{C}\\n\\nData D:\\n{D}\\n'.format(V=V, A=A, C=C, D=D)\n",
      "\t\tgraph = '#Vertices: {}, #Arcs: {}\\n'.format(len(self.vertices), len(self.arcs)) + graph\n",
      "\t\treturn graph\n",
      "\t\n",
      "\tdef gen_cond_bit_vector(self, state):\n",
      "\t\tresult = 0\n",
      "\t\tfor cond in self.conditionals:\n",
      "\t\t\tresult = cond.update_bit_vector(state, result)\n",
      "\t\treturn result\n",
      "\n",
      "\tdef gen_cond_vars(self):\n",
      "\t\treturn [c.name for c in self.conditionals]\n",
      "\n",
      "\tdef gen_cont_vars(self):\n",
      "\t\treturn [v.name for v in self.vertices if v.is_continuous and not v.is_conditional and v.is_sampled]\n",
      "\n",
      "\tdef gen_disc_vars(self):\n",
      "\t\treturn [v.name for v in self.vertices if v.is_discrete and v.is_sampled]\n",
      "\n",
      "\tdef gen_if_vars(self):\n",
      "\t\treturn [v.name for v in self.vertices if v.is_conditional and v.is_sampled and v.is_continuous]\n",
      "\n",
      "\tdef gen_log_pdf(self, state):\n",
      "\t\tlog_pdf = 0\n",
      "\t\tdst_ = dist.Normal(loc=torch.zeros(2, 1), scale=(2 * torch.ones(2, 1)))\n",
      "\t\tlog_pdf = log_pdf + dst_.log_pdf(state['x30001'])\n",
      "\t\tdst_ = dist.Categorical(probs=torch.tensor((0.5 * torch.ones(10, 2))))\n",
      "\t\tlog_pdf = log_pdf + dst_.log_pdf(state['x30002'])\n",
      "\t\tdst_ = dist.Normal(loc=(state['x30001'][0] * torch.ones(len((state['x30002'] == 0).nonzero()), 1)), scale=(2 * torch.ones(len((state['x30002'] == 0).nonzero()), 1)))\n",
      "\t\tlog_pdf = log_pdf + dst_.log_pdf(state['y30004'])\n",
      "\t\tdst_ = dist.Normal(loc=(state['x30001'][1] * torch.ones(len((state['x30002'] == 1).nonzero()), 1)), scale=(2 * torch.ones(len((state['x30002'] == 1).nonzero()), 1)))\n",
      "\t\tlog_pdf = log_pdf + dst_.log_pdf(state['y30005'])\n",
      "\t\tdst_ = dist.Normal(loc=(state['x30001'][2] * torch.ones(len((state['x30002'] == 2).nonzero()), 1)), scale=(2 * torch.ones(len((state['x30002'] == 2).nonzero()), 1)))\n",
      "\t\tlog_pdf = log_pdf + dst_.log_pdf(state['y30006'])\n",
      "\t\tdst_ = dist.Normal(loc=(state['x30001'][3] * torch.ones(len((state['x30002'] == 3).nonzero()), 1)), scale=(2 * torch.ones(len((state['x30002'] == 3).nonzero()), 1)))\n",
      "\t\tlog_pdf = log_pdf + dst_.log_pdf(state['y30007'])\n",
      "\t\tdst_ = dist.Normal(loc=(state['x30001'][4] * torch.ones(len((state['x30002'] == 4).nonzero()), 1)), scale=(2 * torch.ones(len((state['x30002'] == 4).nonzero()), 1)))\n",
      "\t\tlog_pdf = log_pdf + dst_.log_pdf(state['y30008'])\n",
      "\t\tdst_ = dist.Normal(loc=(state['x30001'][5] * torch.ones(len((state['x30002'] == 5).nonzero()), 1)), scale=(2 * torch.ones(len((state['x30002'] == 5).nonzero()), 1)))\n",
      "\t\tlog_pdf = log_pdf + dst_.log_pdf(state['y30009'])\n",
      "\t\tdst_ = dist.Normal(loc=(state['x30001'][6] * torch.ones(len((state['x30002'] == 6).nonzero()), 1)), scale=(2 * torch.ones(len((state['x30002'] == 6).nonzero()), 1)))\n",
      "\t\tlog_pdf = log_pdf + dst_.log_pdf(state['y30010'])\n",
      "\t\tdst_ = dist.Normal(loc=(state['x30001'][7] * torch.ones(len((state['x30002'] == 7).nonzero()), 1)), scale=(2 * torch.ones(len((state['x30002'] == 7).nonzero()), 1)))\n",
      "\t\tlog_pdf = log_pdf + dst_.log_pdf(state['y30011'])\n",
      "\t\tdst_ = dist.Normal(loc=(state['x30001'][8] * torch.ones(len((state['x30002'] == 8).nonzero()), 1)), scale=(2 * torch.ones(len((state['x30002'] == 8).nonzero()), 1)))\n",
      "\t\tlog_pdf = log_pdf + dst_.log_pdf(state['y30012'])\n",
      "\t\tdst_ = dist.Normal(loc=(state['x30001'][9] * torch.ones(len((state['x30002'] == 9).nonzero()), 1)), scale=(2 * torch.ones(len((state['x30002'] == 9).nonzero()), 1)))\n",
      "\t\tlog_pdf = log_pdf + dst_.log_pdf(state['y30013'])\n",
      "\t\treturn log_pdf\n",
      "\n",
      "\tdef gen_log_pdf_transformed(self, state):\n",
      "\t\tlog_pdf = 0\n",
      "\t\tdst_ = dist.Normal(loc=torch.zeros(2, 1), scale=(2 * torch.ones(2, 1)), transformed=True)\n",
      "\t\tlog_pdf = log_pdf + dst_.log_pdf(state['x30001'])\n",
      "\t\tdst_ = dist.Categorical(probs=torch.tensor((0.5 * torch.ones(10, 2))), transformed=True)\n",
      "\t\tlog_pdf = log_pdf + dst_.log_pdf(state['x30002'])\n",
      "\t\tdst_ = dist.Normal(loc=(state['x30001'][0] * torch.ones(len((state['x30002'] == 0).nonzero()), 1)), scale=(2 * torch.ones(len((state['x30002'] == 0).nonzero()), 1)), transformed=True)\n",
      "\t\tlog_pdf = log_pdf + dst_.log_pdf(state['y30004'])\n",
      "\t\tdst_ = dist.Normal(loc=(state['x30001'][1] * torch.ones(len((state['x30002'] == 1).nonzero()), 1)), scale=(2 * torch.ones(len((state['x30002'] == 1).nonzero()), 1)), transformed=True)\n",
      "\t\tlog_pdf = log_pdf + dst_.log_pdf(state['y30005'])\n",
      "\t\tdst_ = dist.Normal(loc=(state['x30001'][2] * torch.ones(len((state['x30002'] == 2).nonzero()), 1)), scale=(2 * torch.ones(len((state['x30002'] == 2).nonzero()), 1)), transformed=True)\n",
      "\t\tlog_pdf = log_pdf + dst_.log_pdf(state['y30006'])\n",
      "\t\tdst_ = dist.Normal(loc=(state['x30001'][3] * torch.ones(len((state['x30002'] == 3).nonzero()), 1)), scale=(2 * torch.ones(len((state['x30002'] == 3).nonzero()), 1)), transformed=True)\n",
      "\t\tlog_pdf = log_pdf + dst_.log_pdf(state['y30007'])\n",
      "\t\tdst_ = dist.Normal(loc=(state['x30001'][4] * torch.ones(len((state['x30002'] == 4).nonzero()), 1)), scale=(2 * torch.ones(len((state['x30002'] == 4).nonzero()), 1)), transformed=True)\n",
      "\t\tlog_pdf = log_pdf + dst_.log_pdf(state['y30008'])\n",
      "\t\tdst_ = dist.Normal(loc=(state['x30001'][5] * torch.ones(len((state['x30002'] == 5).nonzero()), 1)), scale=(2 * torch.ones(len((state['x30002'] == 5).nonzero()), 1)), transformed=True)\n",
      "\t\tlog_pdf = log_pdf + dst_.log_pdf(state['y30009'])\n",
      "\t\tdst_ = dist.Normal(loc=(state['x30001'][6] * torch.ones(len((state['x30002'] == 6).nonzero()), 1)), scale=(2 * torch.ones(len((state['x30002'] == 6).nonzero()), 1)), transformed=True)\n",
      "\t\tlog_pdf = log_pdf + dst_.log_pdf(state['y30010'])\n",
      "\t\tdst_ = dist.Normal(loc=(state['x30001'][7] * torch.ones(len((state['x30002'] == 7).nonzero()), 1)), scale=(2 * torch.ones(len((state['x30002'] == 7).nonzero()), 1)), transformed=True)\n",
      "\t\tlog_pdf = log_pdf + dst_.log_pdf(state['y30011'])\n",
      "\t\tdst_ = dist.Normal(loc=(state['x30001'][8] * torch.ones(len((state['x30002'] == 8).nonzero()), 1)), scale=(2 * torch.ones(len((state['x30002'] == 8).nonzero()), 1)), transformed=True)\n",
      "\t\tlog_pdf = log_pdf + dst_.log_pdf(state['y30012'])\n",
      "\t\tdst_ = dist.Normal(loc=(state['x30001'][9] * torch.ones(len((state['x30002'] == 9).nonzero()), 1)), scale=(2 * torch.ones(len((state['x30002'] == 9).nonzero()), 1)), transformed=True)\n",
      "\t\tlog_pdf = log_pdf + dst_.log_pdf(state['y30013'])\n",
      "\t\treturn log_pdf.sum()\n",
      "\n",
      "\tdef gen_prior_samples(self):\n",
      "\t\tstate = {}\n",
      "\t\tdst_ = dist.Normal(loc=torch.zeros(2, 1), scale=(2 * torch.ones(2, 1)))\n",
      "\t\tstate['x30001'] = dst_.sample()\n",
      "\t\tdst_ = dist.Categorical(probs=torch.tensor((0.5 * torch.ones(10, 2))))\n",
      "\t\tstate['x30002'] = dst_.sample(sample_size=2)\n",
      "\t\tstate['data_30003'] = [-2.0, -2.5, -1.7, -1.9, -2.2, 1.5, 2.2, 3.0, 1.2, 2.8, -1.7, -1.3, 3.2, 0.8, -0.9, 0.3, 1.4, 2.1, 0.8, 1.9]\n",
      "\t\tdst_ = dist.Normal(loc=(state['x30001'][0] * torch.ones(len((state['x30002'] == 0).nonzero()), 1)), scale=(2 * torch.ones(len((state['x30002'] == 0).nonzero()), 1)))\n",
      "\t\tstate['y30004'] = torch.tensor([state['data_30003']])[(state['x30002'] == 0).nonzero()]\n",
      "\t\tdst_ = dist.Normal(loc=(state['x30001'][1] * torch.ones(len((state['x30002'] == 1).nonzero()), 1)), scale=(2 * torch.ones(len((state['x30002'] == 1).nonzero()), 1)))\n",
      "\t\tstate['y30005'] = torch.tensor([state['data_30003']])[(state['x30002'] == 1).nonzero()]\n",
      "\t\tdst_ = dist.Normal(loc=(state['x30001'][2] * torch.ones(len((state['x30002'] == 2).nonzero()), 1)), scale=(2 * torch.ones(len((state['x30002'] == 2).nonzero()), 1)))\n",
      "\t\tstate['y30006'] = torch.tensor([state['data_30003']])[(state['x30002'] == 2).nonzero()]\n",
      "\t\tdst_ = dist.Normal(loc=(state['x30001'][3] * torch.ones(len((state['x30002'] == 3).nonzero()), 1)), scale=(2 * torch.ones(len((state['x30002'] == 3).nonzero()), 1)))\n",
      "\t\tstate['y30007'] = torch.tensor([state['data_30003']])[(state['x30002'] == 3).nonzero()]\n",
      "\t\tdst_ = dist.Normal(loc=(state['x30001'][4] * torch.ones(len((state['x30002'] == 4).nonzero()), 1)), scale=(2 * torch.ones(len((state['x30002'] == 4).nonzero()), 1)))\n",
      "\t\tstate['y30008'] = torch.tensor([state['data_30003']])[(state['x30002'] == 4).nonzero()]\n",
      "\t\tdst_ = dist.Normal(loc=(state['x30001'][5] * torch.ones(len((state['x30002'] == 5).nonzero()), 1)), scale=(2 * torch.ones(len((state['x30002'] == 5).nonzero()), 1)))\n",
      "\t\tstate['y30009'] = torch.tensor([state['data_30003']])[(state['x30002'] == 5).nonzero()]\n",
      "\t\tdst_ = dist.Normal(loc=(state['x30001'][6] * torch.ones(len((state['x30002'] == 6).nonzero()), 1)), scale=(2 * torch.ones(len((state['x30002'] == 6).nonzero()), 1)))\n",
      "\t\tstate['y30010'] = torch.tensor([state['data_30003']])[(state['x30002'] == 6).nonzero()]\n",
      "\t\tdst_ = dist.Normal(loc=(state['x30001'][7] * torch.ones(len((state['x30002'] == 7).nonzero()), 1)), scale=(2 * torch.ones(len((state['x30002'] == 7).nonzero()), 1)))\n",
      "\t\tstate['y30011'] = torch.tensor([state['data_30003']])[(state['x30002'] == 7).nonzero()]\n",
      "\t\tdst_ = dist.Normal(loc=(state['x30001'][8] * torch.ones(len((state['x30002'] == 8).nonzero()), 1)), scale=(2 * torch.ones(len((state['x30002'] == 8).nonzero()), 1)))\n",
      "\t\tstate['y30012'] = torch.tensor([state['data_30003']])[(state['x30002'] == 8).nonzero()]\n",
      "\t\tdst_ = dist.Normal(loc=(state['x30001'][9] * torch.ones(len((state['x30002'] == 9).nonzero()), 1)), scale=(2 * torch.ones(len((state['x30002'] == 9).nonzero()), 1)))\n",
      "\t\tstate['y30013'] = torch.tensor([state['data_30003']])[(state['x30002'] == 9).nonzero()]\n",
      "\t\treturn state\n",
      "\n",
      "\tdef get_arcs(self):\n",
      "\t\treturn self.arcs\n",
      "\n",
      "\tdef get_arcs_names(self):\n",
      "\t\treturn [(u.name, v.name) for (u, v) in self.arcs]\n",
      "\n",
      "\tdef get_conditions(self):\n",
      "\t\treturn self.conditionals\n",
      "\n",
      "\tdef get_vars(self):\n",
      "\t\treturn [v.name for v in self.vertices if v.is_sampled]\n",
      "\n",
      "\tdef get_vertices(self):\n",
      "\t\treturn self.vertices\n",
      "\n",
      "\tdef get_vertices_names(self):\n",
      "\t\treturn [v.name for v in self.vertices]\n",
      "\n",
      "\tdef is_torch_imported(self):\n",
      "\t\timport sys \n",
      "\t\tprint('torch' in sys.modules) \n",
      "\t\tprint(torch.__version__) \n",
      "\t\tprint(type(torch.tensor)) \n",
      "\t\timport inspect \n",
      "\t\tprint(inspect.getfile(torch))\n",
      "\n"
     ]
    }
   ],
   "source": [
    "print(compiled_python.code)"
   ]
  },
  {
   "cell_type": "markdown",
   "metadata": {},
   "source": [
    "## The dependency graph"
   ]
  },
  {
   "cell_type": "code",
   "execution_count": 25,
   "metadata": {},
   "outputs": [
    {
     "data": {
      "image/png": "[encoded data removed]",
      "text/plain": [
       "<Figure size 432x288 with 1 Axes>"
      ]
     },
     "metadata": {},
     "output_type": "display_data"
    },
    {
     "data": {
      "text/plain": [
       "True"
      ]
     },
     "execution_count": 25,
     "metadata": {},
     "output_type": "execute_result"
    }
   ],
   "source": [
    "vertices = compiled_python.vertices\n",
    "create_network_graph(vertices=vertices)\n",
    "display_graph(vertices=vertices)"
   ]
  },
  {
   "cell_type": "markdown",
   "metadata": {},
   "source": [
    "## A Bayesian Neural Network"
   ]
  },
  {
   "cell_type": "code",
   "execution_count": 26,
   "metadata": {},
   "outputs": [],
   "source": [
    "model_neural_net =\"\"\"\n",
    "import torch\n",
    "latent_dim = 2\n",
    "hidden_dim = 10\n",
    "output_dim = 5\n",
    "\n",
    "def gaussian(n_samples):\n",
    "    return sample(normal(0.0*torch.ones(n_samples), 1.0*torch.ones(n_samples)))\n",
    "\n",
    "def make_latent_vector():\n",
    "    return gaussian(latent_dim)\n",
    "\n",
    "def make_hidden_vector():\n",
    "    return gaussian(hidden_dim)\n",
    "\n",
    "def make_output_vector():\n",
    "    return gaussian(output_dim)\n",
    "\n",
    "def relu(v):\n",
    "    relu = torch.nn.ReLU()\n",
    "    return relu(v)\n",
    "\n",
    "def sigmoid(v):\n",
    "    return torch.sigmoid(v)\n",
    "\n",
    "def flip(i, probs):\n",
    "    return sample(binomial(total_count=i,probs=probs))\n",
    "\n",
    "z = make_latent_vector()\n",
    "W = torch.stack([make_latent_vector() for _ in range(hidden_dim)], dim=1) # Creates a tenssor of dims latent_dim x hidden_dim (2 x10)\n",
    "b = make_hidden_vector() #(10)\n",
    "h = relu(torch.mm(W.t(), z.unsqueeze(-1))+ b) # (10 x 2 * 2 x 1 + 10) --> 10 x 1\n",
    "\n",
    "V = torch.stack([make_hidden_vector() for _ in range(output_dim)], dim=1) # 10 x 5\n",
    "c = make_output_vector() # 5\n",
    "\n",
    "result = []\n",
    "# unclear from original model.\n",
    "result.append( flip(1, probs=sigmoid(torch.mm(V.t(), h) + c)))\n",
    "\n",
    "\"\"\"\n",
    "compiled_python = compile_model(model_neural_net, language='python')\n"
   ]
  },
  {
   "cell_type": "markdown",
   "metadata": {},
   "source": [
    "## The code output"
   ]
  },
  {
   "cell_type": "code",
   "execution_count": 36,
   "metadata": {},
   "outputs": [
    {
     "name": "stdout",
     "output_type": "stream",
     "text": [
      "# 2018-06-11 17:34:03.103944\n",
      "import torch.distributions as dist\n",
      "from pyppl.aux.graph_plots import GraphPlotter as _GraphPlotter\n",
      "import torch\n",
      "\n",
      "class Model(_GraphPlotter):\n",
      "\n",
      "\tdef __init__(self, vertices: set, arcs: set, data: set, conditionals: set):\n",
      "\t\tsuper().__init__()\n",
      "\t\tself.vertices = vertices\n",
      "\t\tself.arcs = arcs\n",
      "\t\tself.data = data\n",
      "\t\tself.conditionals = conditionals\n",
      "\t\n",
      "\tdef __repr__(self):\n",
      "\t\tV = '\\n'.join(sorted([repr(v) for v in self.vertices]))\n",
      "\t\tA = ', '.join(['({}, {})'.format(u.name, v.name) for (u, v) in self.arcs]) if len(self.arcs) > 0 else '  -'\n",
      "\t\tC = '\\n'.join(sorted([repr(v) for v in self.conditionals])) if len(self.conditionals) > 0 else '  -'\n",
      "\t\tD = '\\n'.join([repr(u) for u in self.data]) if len(self.data) > 0 else '  -'\n",
      "\t\tgraph = 'Vertices V:\\n{V}\\nArcs A:\\n  {A}\\n\\nConditions C:\\n{C}\\n\\nData D:\\n{D}\\n'.format(V=V, A=A, C=C, D=D)\n",
      "\t\tgraph = '#Vertices: {}, #Arcs: {}\\n'.format(len(self.vertices), len(self.arcs)) + graph\n",
      "\t\treturn graph\n",
      "\t\n",
      "\tdef gen_cond_bit_vector(self, state):\n",
      "\t\tresult = 0\n",
      "\t\tfor cond in self.conditionals:\n",
      "\t\t\tresult = cond.update_bit_vector(state, result)\n",
      "\t\treturn result\n",
      "\n",
      "\tdef gen_cond_vars(self):\n",
      "\t\treturn [c.name for c in self.conditionals]\n",
      "\n",
      "\tdef gen_cont_vars(self):\n",
      "\t\treturn [v.name for v in self.vertices if v.is_continuous and not v.is_conditional and v.is_sampled]\n",
      "\n",
      "\tdef gen_disc_vars(self):\n",
      "\t\treturn [v.name for v in self.vertices if v.is_discrete and v.is_sampled]\n",
      "\n",
      "\tdef gen_if_vars(self):\n",
      "\t\treturn [v.name for v in self.vertices if v.is_conditional and v.is_sampled and v.is_continuous]\n",
      "\n",
      "\tdef gen_log_pdf(self, state):\n",
      "\t\tlog_pdf = 0\n",
      "\t\tdst_ = dist.Normal(loc=torch.zeros(2, 1), scale=(2 * torch.ones(2, 1)))\n",
      "\t\tlog_pdf = log_pdf + dst_.log_pdf(state['x30001'])\n",
      "\t\tdst_ = dist.Categorical(probs=torch.tensor((0.5 * torch.ones(10, 2))))\n",
      "\t\tlog_pdf = log_pdf + dst_.log_pdf(state['x30002'])\n",
      "\t\tdst_ = dist.Normal(loc=(state['x30001'][0] * torch.ones(len((state['x30002'] == 0).nonzero()), 1)), scale=(2 * torch.ones(len((state['x30002'] == 0).nonzero()), 1)))\n",
      "\t\tlog_pdf = log_pdf + dst_.log_pdf(state['y30004'])\n",
      "\t\tdst_ = dist.Normal(loc=(state['x30001'][1] * torch.ones(len((state['x30002'] == 1).nonzero()), 1)), scale=(2 * torch.ones(len((state['x30002'] == 1).nonzero()), 1)))\n",
      "\t\tlog_pdf = log_pdf + dst_.log_pdf(state['y30005'])\n",
      "\t\tdst_ = dist.Normal(loc=(state['x30001'][2] * torch.ones(len((state['x30002'] == 2).nonzero()), 1)), scale=(2 * torch.ones(len((state['x30002'] == 2).nonzero()), 1)))\n",
      "\t\tlog_pdf = log_pdf + dst_.log_pdf(state['y30006'])\n",
      "\t\tdst_ = dist.Normal(loc=(state['x30001'][3] * torch.ones(len((state['x30002'] == 3).nonzero()), 1)), scale=(2 * torch.ones(len((state['x30002'] == 3).nonzero()), 1)))\n",
      "\t\tlog_pdf = log_pdf + dst_.log_pdf(state['y30007'])\n",
      "\t\tdst_ = dist.Normal(loc=(state['x30001'][4] * torch.ones(len((state['x30002'] == 4).nonzero()), 1)), scale=(2 * torch.ones(len((state['x30002'] == 4).nonzero()), 1)))\n",
      "\t\tlog_pdf = log_pdf + dst_.log_pdf(state['y30008'])\n",
      "\t\tdst_ = dist.Normal(loc=(state['x30001'][5] * torch.ones(len((state['x30002'] == 5).nonzero()), 1)), scale=(2 * torch.ones(len((state['x30002'] == 5).nonzero()), 1)))\n",
      "\t\tlog_pdf = log_pdf + dst_.log_pdf(state['y30009'])\n",
      "\t\tdst_ = dist.Normal(loc=(state['x30001'][6] * torch.ones(len((state['x30002'] == 6).nonzero()), 1)), scale=(2 * torch.ones(len((state['x30002'] == 6).nonzero()), 1)))\n",
      "\t\tlog_pdf = log_pdf + dst_.log_pdf(state['y30010'])\n",
      "\t\tdst_ = dist.Normal(loc=(state['x30001'][7] * torch.ones(len((state['x30002'] == 7).nonzero()), 1)), scale=(2 * torch.ones(len((state['x30002'] == 7).nonzero()), 1)))\n",
      "\t\tlog_pdf = log_pdf + dst_.log_pdf(state['y30011'])\n",
      "\t\tdst_ = dist.Normal(loc=(state['x30001'][8] * torch.ones(len((state['x30002'] == 8).nonzero()), 1)), scale=(2 * torch.ones(len((state['x30002'] == 8).nonzero()), 1)))\n",
      "\t\tlog_pdf = log_pdf + dst_.log_pdf(state['y30012'])\n",
      "\t\tdst_ = dist.Normal(loc=(state['x30001'][9] * torch.ones(len((state['x30002'] == 9).nonzero()), 1)), scale=(2 * torch.ones(len((state['x30002'] == 9).nonzero()), 1)))\n",
      "\t\tlog_pdf = log_pdf + dst_.log_pdf(state['y30013'])\n",
      "\t\treturn log_pdf\n",
      "\n",
      "\tdef gen_log_pdf_transformed(self, state):\n",
      "\t\tlog_pdf = 0\n",
      "\t\tdst_ = dist.Normal(loc=torch.zeros(2, 1), scale=(2 * torch.ones(2, 1)), transformed=True)\n",
      "\t\tlog_pdf = log_pdf + dst_.log_pdf(state['x30001'])\n",
      "\t\tdst_ = dist.Categorical(probs=torch.tensor((0.5 * torch.ones(10, 2))), transformed=True)\n",
      "\t\tlog_pdf = log_pdf + dst_.log_pdf(state['x30002'])\n",
      "\t\tdst_ = dist.Normal(loc=(state['x30001'][0] * torch.ones(len((state['x30002'] == 0).nonzero()), 1)), scale=(2 * torch.ones(len((state['x30002'] == 0).nonzero()), 1)), transformed=True)\n",
      "\t\tlog_pdf = log_pdf + dst_.log_pdf(state['y30004'])\n",
      "\t\tdst_ = dist.Normal(loc=(state['x30001'][1] * torch.ones(len((state['x30002'] == 1).nonzero()), 1)), scale=(2 * torch.ones(len((state['x30002'] == 1).nonzero()), 1)), transformed=True)\n",
      "\t\tlog_pdf = log_pdf + dst_.log_pdf(state['y30005'])\n",
      "\t\tdst_ = dist.Normal(loc=(state['x30001'][2] * torch.ones(len((state['x30002'] == 2).nonzero()), 1)), scale=(2 * torch.ones(len((state['x30002'] == 2).nonzero()), 1)), transformed=True)\n",
      "\t\tlog_pdf = log_pdf + dst_.log_pdf(state['y30006'])\n",
      "\t\tdst_ = dist.Normal(loc=(state['x30001'][3] * torch.ones(len((state['x30002'] == 3).nonzero()), 1)), scale=(2 * torch.ones(len((state['x30002'] == 3).nonzero()), 1)), transformed=True)\n",
      "\t\tlog_pdf = log_pdf + dst_.log_pdf(state['y30007'])\n",
      "\t\tdst_ = dist.Normal(loc=(state['x30001'][4] * torch.ones(len((state['x30002'] == 4).nonzero()), 1)), scale=(2 * torch.ones(len((state['x30002'] == 4).nonzero()), 1)), transformed=True)\n",
      "\t\tlog_pdf = log_pdf + dst_.log_pdf(state['y30008'])\n",
      "\t\tdst_ = dist.Normal(loc=(state['x30001'][5] * torch.ones(len((state['x30002'] == 5).nonzero()), 1)), scale=(2 * torch.ones(len((state['x30002'] == 5).nonzero()), 1)), transformed=True)\n",
      "\t\tlog_pdf = log_pdf + dst_.log_pdf(state['y30009'])\n",
      "\t\tdst_ = dist.Normal(loc=(state['x30001'][6] * torch.ones(len((state['x30002'] == 6).nonzero()), 1)), scale=(2 * torch.ones(len((state['x30002'] == 6).nonzero()), 1)), transformed=True)\n",
      "\t\tlog_pdf = log_pdf + dst_.log_pdf(state['y30010'])\n",
      "\t\tdst_ = dist.Normal(loc=(state['x30001'][7] * torch.ones(len((state['x30002'] == 7).nonzero()), 1)), scale=(2 * torch.ones(len((state['x30002'] == 7).nonzero()), 1)), transformed=True)\n",
      "\t\tlog_pdf = log_pdf + dst_.log_pdf(state['y30011'])\n",
      "\t\tdst_ = dist.Normal(loc=(state['x30001'][8] * torch.ones(len((state['x30002'] == 8).nonzero()), 1)), scale=(2 * torch.ones(len((state['x30002'] == 8).nonzero()), 1)), transformed=True)\n",
      "\t\tlog_pdf = log_pdf + dst_.log_pdf(state['y30012'])\n",
      "\t\tdst_ = dist.Normal(loc=(state['x30001'][9] * torch.ones(len((state['x30002'] == 9).nonzero()), 1)), scale=(2 * torch.ones(len((state['x30002'] == 9).nonzero()), 1)), transformed=True)\n",
      "\t\tlog_pdf = log_pdf + dst_.log_pdf(state['y30013'])\n",
      "\t\treturn log_pdf.sum()\n",
      "\n",
      "\tdef gen_prior_samples(self):\n",
      "\t\tstate = {}\n",
      "\t\tdst_ = dist.Normal(loc=torch.zeros(2, 1), scale=(2 * torch.ones(2, 1)))\n",
      "\t\tstate['x30001'] = dst_.sample()\n",
      "\t\tdst_ = dist.Categorical(probs=torch.tensor((0.5 * torch.ones(10, 2))))\n",
      "\t\tstate['x30002'] = dst_.sample(sample_size=2)\n",
      "\t\tstate['data_30003'] = [-2.0, -2.5, -1.7, -1.9, -2.2, 1.5, 2.2, 3.0, 1.2, 2.8, -1.7, -1.3, 3.2, 0.8, -0.9, 0.3, 1.4, 2.1, 0.8, 1.9]\n",
      "\t\tdst_ = dist.Normal(loc=(state['x30001'][0] * torch.ones(len((state['x30002'] == 0).nonzero()), 1)), scale=(2 * torch.ones(len((state['x30002'] == 0).nonzero()), 1)))\n",
      "\t\tstate['y30004'] = torch.tensor([state['data_30003']])[(state['x30002'] == 0).nonzero()]\n",
      "\t\tdst_ = dist.Normal(loc=(state['x30001'][1] * torch.ones(len((state['x30002'] == 1).nonzero()), 1)), scale=(2 * torch.ones(len((state['x30002'] == 1).nonzero()), 1)))\n",
      "\t\tstate['y30005'] = torch.tensor([state['data_30003']])[(state['x30002'] == 1).nonzero()]\n",
      "\t\tdst_ = dist.Normal(loc=(state['x30001'][2] * torch.ones(len((state['x30002'] == 2).nonzero()), 1)), scale=(2 * torch.ones(len((state['x30002'] == 2).nonzero()), 1)))\n",
      "\t\tstate['y30006'] = torch.tensor([state['data_30003']])[(state['x30002'] == 2).nonzero()]\n",
      "\t\tdst_ = dist.Normal(loc=(state['x30001'][3] * torch.ones(len((state['x30002'] == 3).nonzero()), 1)), scale=(2 * torch.ones(len((state['x30002'] == 3).nonzero()), 1)))\n",
      "\t\tstate['y30007'] = torch.tensor([state['data_30003']])[(state['x30002'] == 3).nonzero()]\n",
      "\t\tdst_ = dist.Normal(loc=(state['x30001'][4] * torch.ones(len((state['x30002'] == 4).nonzero()), 1)), scale=(2 * torch.ones(len((state['x30002'] == 4).nonzero()), 1)))\n",
      "\t\tstate['y30008'] = torch.tensor([state['data_30003']])[(state['x30002'] == 4).nonzero()]\n",
      "\t\tdst_ = dist.Normal(loc=(state['x30001'][5] * torch.ones(len((state['x30002'] == 5).nonzero()), 1)), scale=(2 * torch.ones(len((state['x30002'] == 5).nonzero()), 1)))\n",
      "\t\tstate['y30009'] = torch.tensor([state['data_30003']])[(state['x30002'] == 5).nonzero()]\n",
      "\t\tdst_ = dist.Normal(loc=(state['x30001'][6] * torch.ones(len((state['x30002'] == 6).nonzero()), 1)), scale=(2 * torch.ones(len((state['x30002'] == 6).nonzero()), 1)))\n",
      "\t\tstate['y30010'] = torch.tensor([state['data_30003']])[(state['x30002'] == 6).nonzero()]\n",
      "\t\tdst_ = dist.Normal(loc=(state['x30001'][7] * torch.ones(len((state['x30002'] == 7).nonzero()), 1)), scale=(2 * torch.ones(len((state['x30002'] == 7).nonzero()), 1)))\n",
      "\t\tstate['y30011'] = torch.tensor([state['data_30003']])[(state['x30002'] == 7).nonzero()]\n",
      "\t\tdst_ = dist.Normal(loc=(state['x30001'][8] * torch.ones(len((state['x30002'] == 8).nonzero()), 1)), scale=(2 * torch.ones(len((state['x30002'] == 8).nonzero()), 1)))\n",
      "\t\tstate['y30012'] = torch.tensor([state['data_30003']])[(state['x30002'] == 8).nonzero()]\n",
      "\t\tdst_ = dist.Normal(loc=(state['x30001'][9] * torch.ones(len((state['x30002'] == 9).nonzero()), 1)), scale=(2 * torch.ones(len((state['x30002'] == 9).nonzero()), 1)))\n",
      "\t\tstate['y30013'] = torch.tensor([state['data_30003']])[(state['x30002'] == 9).nonzero()]\n",
      "\t\treturn state\n",
      "\n",
      "\tdef get_arcs(self):\n",
      "\t\treturn self.arcs\n",
      "\n",
      "\tdef get_arcs_names(self):\n",
      "\t\treturn [(u.name, v.name) for (u, v) in self.arcs]\n",
      "\n",
      "\tdef get_conditions(self):\n",
      "\t\treturn self.conditionals\n",
      "\n",
      "\tdef get_vars(self):\n",
      "\t\treturn [v.name for v in self.vertices if v.is_sampled]\n",
      "\n",
      "\tdef get_vertices(self):\n",
      "\t\treturn self.vertices\n",
      "\n",
      "\tdef get_vertices_names(self):\n",
      "\t\treturn [v.name for v in self.vertices]\n",
      "\n",
      "\tdef is_torch_imported(self):\n",
      "\t\timport sys \n",
      "\t\tprint('torch' in sys.modules) \n",
      "\t\tprint(torch.__version__) \n",
      "\t\tprint(type(torch.tensor)) \n",
      "\t\timport inspect \n",
      "\t\tprint(inspect.getfile(torch))\n",
      "\n"
     ]
    }
   ],
   "source": [
    "print(compiled_python.code)"
   ]
  },
  {
   "cell_type": "markdown",
   "metadata": {},
   "source": [
    "## The dependency graph"
   ]
  },
  {
   "cell_type": "code",
   "execution_count": 27,
   "metadata": {},
   "outputs": [
    {
     "data": {
      "image/png": "[encoded data removed]",
      "text/plain": [
       "<Figure size 432x288 with 1 Axes>"
      ]
     },
     "metadata": {},
     "output_type": "display_data"
    },
    {
     "data": {
      "text/plain": [
       "True"
      ]
     },
     "execution_count": 27,
     "metadata": {},
     "output_type": "execute_result"
    }
   ],
   "source": [
    "vertices = compiled_python.vertices\n",
    "create_network_graph(vertices=vertices)\n",
    "display_graph(vertices=vertices)"
   ]
  },
  {
   "cell_type": "code",
   "execution_count": null,
   "metadata": {},
   "outputs": [],
   "source": []
  }
 ],
 "metadata": {
  "kernelspec": {
   "display_name": "Python 3",
   "language": "python",
   "name": "python3"
  },
  "language_info": {
   "codemirror_mode": {
    "name": "ipython",
    "version": 3
   },
   "file_extension": ".py",
   "mimetype": "text/x-python",
   "name": "python",
   "nbconvert_exporter": "python",
   "pygments_lexer": "ipython3",
   "version": "3.6.3"
  }
 },
 "nbformat": 4,
 "nbformat_minor": 2
}
