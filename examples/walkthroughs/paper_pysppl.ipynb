{
 "cells": [
  {
   "cell_type": "markdown",
   "metadata": {},
   "source": [
    "## Branching Model"
   ]
  },
  {
   "cell_type": "code",
   "execution_count": 10,
   "metadata": {},
   "outputs": [],
   "source": [
    "branch_python=\"\"\"\n",
    "y = [-5,-2.4, 35]\n",
    "mean = sample(normal(1,1))\n",
    "if mean > 2:\n",
    "    observe(normal(3,8),y[2])\n",
    "elif mean < 1:\n",
    "    observe(gamma(mean,3),y[0])\n",
    "else:\n",
    "    observe(beta(3,3),y[1])\n",
    "observe(uniform(2,5),mean)\n",
    "\"\"\"\n"
   ]
  },
  {
   "cell_type": "code",
   "execution_count": 11,
   "metadata": {},
   "outputs": [],
   "source": [
    "compiled_python = compile_model(branch_python, language='python')"
   ]
  },
  {
   "cell_type": "markdown",
   "metadata": {},
   "source": [
    "## The dependency graph"
   ]
  },
  {
   "cell_type": "code",
   "execution_count": 12,
   "metadata": {},
   "outputs": [
    {
     "data": {
      "image/png": "[encoded data removed]",
      "text/plain": [
       "<Figure size 432x288 with 1 Axes>"
      ]
     },
     "metadata": {
      "needs_background": "light"
     },
     "output_type": "display_data"
    }
   ],
   "source": [
    "vertices = compiled_python.vertices\n",
    "create_network_graph(vertices=vertices)\n",
    "display_graph(vertices=vertices);"
   ]
  },
  {
   "cell_type": "markdown",
   "metadata": {},
   "source": [
    "## The Compiled Graph"
   ]
  },
  {
   "cell_type": "code",
   "execution_count": 15,
   "metadata": {},
   "outputs": [
    {
     "name": "stdout",
     "output_type": "stream",
     "text": [
      "#Vertices: 5, #Arcs: 2\n",
      "Vertices V:\n",
      "Vertex x30001 [Sample]\n",
      "  Name:           x30001\n",
      "  Ancestors:      \n",
      "  Cond-Ancs.:     \n",
      "  Dist-Args:      {'loc': '1', 'scale': '1'}\n",
      "  Dist-Code:      dist.Normal(1, 1)\n",
      "  Dist-Name:      Normal\n",
      "  Dist-Type:      DistributionType.CONTINUOUS\n",
      "  Sample-Size:    1\n",
      "  Orig. Name:     mean\n",
      "Vertex y30003 [Observe]\n",
      "  Name:           y30003\n",
      "  Ancestors:      \n",
      "  Conditions:     cond_30002=True\n",
      "  Cond-Ancs.:     x30001\n",
      "  Cond-Nodes:     cond_30002\n",
      "  Dist-Args:      {'loc': '3', 'scale': '8'}\n",
      "  Dist-Code:      dist.Normal(3, 8)\n",
      "  Dist-Name:      Normal\n",
      "  Dist-Type:      DistributionType.CONTINUOUS\n",
      "  Sample-Size:    1\n",
      "  Observation:    35\n",
      "Vertex y30005 [Observe]\n",
      "  Name:           y30005\n",
      "  Ancestors:      x30001\n",
      "  Conditions:     cond_30004=True, cond_30002=False\n",
      "  Cond-Ancs.:     x30001\n",
      "  Cond-Nodes:     cond_30004, cond_30002\n",
      "  Dist-Args:      {'alpha': \"state['x30001']\", 'beta': '3'}\n",
      "  Dist-Code:      dist.Gamma(state['x30001'], 3)\n",
      "  Dist-Name:      Gamma\n",
      "  Dist-Type:      DistributionType.CONTINUOUS\n",
      "  Sample-Size:    1\n",
      "  Observation:    -5\n",
      "Vertex y30006 [Observe]\n",
      "  Name:           y30006\n",
      "  Ancestors:      \n",
      "  Conditions:     cond_30002=False, cond_30004=False\n",
      "  Cond-Ancs.:     x30001\n",
      "  Cond-Nodes:     cond_30004, cond_30002\n",
      "  Dist-Args:      {'alpha': '3', 'beta': '3'}\n",
      "  Dist-Code:      dist.Beta(3, 3)\n",
      "  Dist-Name:      Beta\n",
      "  Dist-Type:      DistributionType.CONTINUOUS\n",
      "  Sample-Size:    1\n",
      "  Observation:    -2.4\n",
      "Vertex y30007 [Observe]\n",
      "  Name:           y30007\n",
      "  Ancestors:      x30001\n",
      "  Conditions:     \n",
      "  Cond-Ancs.:     \n",
      "  Cond-Nodes:     \n",
      "  Dist-Args:      {'low': '2', 'high': '5'}\n",
      "  Dist-Code:      dist.Uniform(2, 5)\n",
      "  Dist-Name:      Uniform\n",
      "  Dist-Type:      DistributionType.CONTINUOUS\n",
      "  Sample-Size:    1\n",
      "  Observation:    state['x30001']\n",
      "Arcs A:\n",
      "  (x30001, y30005), (x30001, y30007)\n",
      "\n",
      "Conditions C:\n",
      "Condition\n",
      "  Name:         cond_30002\n",
      "  Ancestors:    x30001\n",
      "  Condition:    (state['x30001'] > 2)\n",
      "Condition\n",
      "  Name:         cond_30004\n",
      "  Ancestors:    x30001\n",
      "  Condition:    (state['x30001'] < 1)\n",
      "\n",
      "Data D:\n",
      "  -\n",
      "\n"
     ]
    }
   ],
   "source": [
    "print(compiled_python)"
   ]
  },
  {
   "cell_type": "markdown",
   "metadata": {},
   "source": [
    "## Other types of analytic functions"
   ]
  },
  {
   "cell_type": "code",
   "execution_count": 10,
   "metadata": {},
   "outputs": [],
   "source": [
    "mean= sample(Exp(3))\n",
    "x= sample(gamma(mean,1))\n",
    "y= 10\n",
    "observe(Log(x*x+1), y)"
   ]
  },
  {
   "cell_type": "code",
   "execution_count": null,
   "metadata": {},
   "outputs": [],
   "source": []
  }
 ],
 "metadata": {
  "kernelspec": {
   "display_name": "Python 3",
   "language": "python",
   "name": "python3"
  },
  "language_info": {
   "codemirror_mode": {
    "name": "ipython",
    "version": 3
   },
   "file_extension": ".py",
   "mimetype": "text/x-python",
   "name": "python",
   "nbconvert_exporter": "python",
   "pygments_lexer": "ipython3",
   "version": "3.6.6"
  }
 },
 "nbformat": 4,
 "nbformat_minor": 2
}
