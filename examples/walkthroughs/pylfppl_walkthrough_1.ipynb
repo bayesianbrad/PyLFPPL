{
 "cells": [
  {
   "cell_type": "markdown",
   "metadata": {},
   "source": [
    "# PyLFPPL: Introduction\n",
    "\n",
    "Python LFPPL is a probabilistic programming language that is built for enabling one to perform inference in probabilistic programs that require gradient based inference algorithms. As `if-else` statements within probabilistic programs that use gradient based inference, take on two different forms. On one hand hand `if-else` have the usual programmer interpretation, but on the other, when random variables are placed inside of the predicate, or the body of an `if-else` expression, then we must treat those variables with care as discontinuities arise at point of indecision. We must ensure that at this indecision boundary the discontinuity, with respect to space it is in and the measure imposed on it, has a measure of zero. \n",
    "\n",
    "Our framework was built to ensure that certain criteria in the compiled output of a directed acyclic graphical model are met. The language is extensible enough for one to add their own custom built potentials; which could be either log joint densities or loss functions, within the framework. There is a higher layer inference framework that takes advantage of PyLFPPL called [pyfo](https://github.com/bradleygramhansen/pyfo), we are actively developing this. The corresponding paper is called [Discontinuous Hamiltonian Monte Carlo for Probabilistic Programs](https://arxiv.org/abs/1804.03523). \n",
    "\n",
    "In this walk-through we shall go through the basics of how to write a model and how to compile the model. In the following walk-through we shall show how to use custom density functions, how add other distributions within the framework and how to take advantage of the translation rules that are embedded within the language. "
   ]
  },
  {
   "cell_type": "markdown",
   "metadata": {},
   "source": [
    "## PyLFPPL imports"
   ]
  },
  {
   "cell_type": "code",
   "execution_count": 1,
   "metadata": {},
   "outputs": [],
   "source": [
    "%matplotlib inline\n",
    "from pyppl import compile_model \n",
    "from pyppl.utils.core import create_network_graph, display_graph\n"
   ]
  },
  {
   "cell_type": "markdown",
   "metadata": {},
   "source": [
    "## A statistical model with basic control-flow\n",
    "\n",
    "For fun, let us add some contextual data: Whether or not Alice decides to go to space is highly dependent upon the number of points Alice collects, which is dependent upon a draw from a centered normal distribution, $x_1$. If she draws a number greater than 0, then we observe that Alice gets 1.5 points and the likelihood she goes to space, given the 1.5 points, is distributed by $\\mathcal{N}(1.5~|~x_1,1)$. However, if she draws a number less than or equal to 0, then her likelihood is quite different. She gains 1 point, but the likelihood that the distribution is centered around 1, is dependent upon a random draw from a categorical distribution that returns a 0 with probability 0.1, 1 with probability 0.2, and 2 with probability 0.7. If we find that the value of the $x_1$ after the inference is greater than zero, then Alice goes to space, else she stays on Earth :-(\n",
    "\n",
    "\n",
    "$$ x_1 \\sim \\mathcal{N}(0,1) $$\n",
    "$$ x_2 \\sim \\mathcal{Cat}(0.1, 0.2, 0.7) $$\n",
    "we observe our data (\"points\")\n",
    "$$y_1 = 1.5 $$\n",
    "$$y_2 = 1 $$\n",
    "\n",
    "likelihood terms\n",
    "$$ y_1 = 1.5~|~x_1 = \\mathcal{N}(y_1~|~x_1,~1) $$\n",
    "$$ y_2 = 1~|~x_2 = \\mathcal{N}(y_2~|~x_2,~1) $$\n"
   ]
  },
  {
   "cell_type": "code",
   "execution_count": 2,
   "metadata": {},
   "outputs": [],
   "source": [
    "model_if_clojure=\"\"\"\n",
    "(let [x1 (sample (normal [0 0 0] [1 1 1]))\n",
    "      x2 (sample (categorical [0.1 0.2 0.7]))\n",
    "      y1 [1.5 1.5 1.5]\n",
    "      y2 [1 1 1] ]\n",
    "  (if (> x1 0)\n",
    "    (observe (normal x1 [1 1 1]) y1)\n",
    "    (observe (normal x2 [1 1 1]) y2))\n",
    "  [x1 x2])\n",
    "\"\"\"\n",
    "\n",
    "\n",
    "compiled_clojure = compile_model(model_if_clojure, language='clojure')\n"
   ]
  },
  {
   "cell_type": "markdown",
   "metadata": {},
   "source": [
    "The compiler takes the above code and transforms it into a model class, from which the user can manipulate the program and interface with an inference engine. \n",
    "\n",
    "As can be seen above, the language consists of some special syntax, one being \n",
    "<font color='red'>sample</font>`(<distribution_name>(param1, param2m, ...))`\n",
    "\n",
    "which generates the `priors` for the variables of interest, and the second being \n",
    "<font color='blue'>observe</font>`(<distribution name>(param1, param2, ...), <observation/data>)` \n",
    "\n",
    "which generates the likelihood given the observed data. The definitions given here are for when writing models in `python`, but examples of what the statements look like in `clojure` is given in the example above. \n",
    "\n",
    "Finally, `if`-expressions, whilst on the surface look like usual `if`-statements, are interpreted in a special way in `PyLFPPL`. If the predicate, in the example above this is `(> x1 0)`, contains any <font color='red'>sampled</font> variables, then within `PyLFPPL` a specific key-value pair is generated for that `if`-statement, so that those variables can be controlled in a special way. \n",
    "\n",
    "This is especially important when using gradient based inference algorithms, as the conditions within the predicates can create **measure zero** discontinuities. When using algorithms such as Hamiltonian Monte Carlo (HMC) for performing inference in models that are of a low dimensionality with a suitably low number of discontinuities, one may not notice a difference in the outcome of the inference result. If they have the ground truth available. However, using HMC on such models is completely and utterly statistically wrong. But the HMC algorithm for such a model would run without hindrance. \n",
    "\n",
    "This is dangerous for two reasons. One, If probabilistic programming languages and systems are supposed to deal with these subtleties whilst letting the modeller focus on modelling, then we are letting down a large group of the target users, who may not truly understand these subtleties. Two, the use of gradient based inference with control flow is poorly understood. Whilst point two, is re-iterating point one to some extent, it is important to understand, that a lack of understanding about a particular inference technique is detrimental to the setup of the probabilistic programming language and system. This is one of the reasons behind `PyLFPPL`, a simple language with inbuilt constraints to avoid these issue, yet is flexible enough to be integrated into other probabilistic programming systems.  \n",
    "\n",
    "\n",
    "Here is a print out of the model class for the above model:"
   ]
  },
  {
   "cell_type": "code",
   "execution_count": 3,
   "metadata": {},
   "outputs": [
    {
     "name": "stdout",
     "output_type": "stream",
     "text": [
      "# 2018-10-01 07:45:24.314394\n",
      "import torch\n",
      "import torch.distributions as dist\n",
      "\n",
      "\n",
      "class Model():\n",
      "\n",
      "\tdef __init__(self, vertices: set, arcs: set, data: set, conditionals: set):\n",
      "\t\tsuper().__init__()\n",
      "\t\tself.vertices = vertices\n",
      "\t\tself.arcs = arcs\n",
      "\t\tself.data = data\n",
      "\t\tself.conditionals = conditionals\n",
      "\t\n",
      "\tdef __repr__(self):\n",
      "\t\tV = '\\n'.join(sorted([repr(v) for v in self.vertices]))\n",
      "\t\tA = ', '.join(['({}, {})'.format(u.name, v.name) for (u, v) in self.arcs]) if len(self.arcs) > 0 else '  -'\n",
      "\t\tC = '\\n'.join(sorted([repr(v) for v in self.conditionals])) if len(self.conditionals) > 0 else '  -'\n",
      "\t\tD = '\\n'.join([repr(u) for u in self.data]) if len(self.data) > 0 else '  -'\n",
      "\t\tgraph = 'Vertices V:\\n{V}\\nArcs A:\\n  {A}\\n\\nConditions C:\\n{C}\\n\\nData D:\\n{D}\\n'.format(V=V, A=A, C=C, D=D)\n",
      "\t\tgraph = '#Vertices: {}, #Arcs: {}\\n'.format(len(self.vertices), len(self.arcs)) + graph\n",
      "\t\treturn graph\n",
      "\t\n",
      "\tdef gen_cond_bit_vector(self, state):\n",
      "\t\tresult = 0\n",
      "\t\tfor cond in self.conditionals:\n",
      "\t\t\tresult = cond.update_bit_vector(state, result)\n",
      "\t\treturn result\n",
      "\n",
      "\tdef gen_cond_vars(self):\n",
      "\t\treturn [c.name for c in self.conditionals]\n",
      "\n",
      "\tdef gen_cont_vars(self):\n",
      "\t\treturn [v.name for v in self.vertices if v.is_continuous and not v.is_conditional and v.is_sampled]\n",
      "\n",
      "\tdef gen_disc_vars(self):\n",
      "\t\treturn [v.name for v in self.vertices if v.is_discrete and v.is_sampled]\n",
      "\n",
      "\tdef gen_if_vars(self):\n",
      "\t\treturn [v.name for v in self.vertices if v.is_conditional and v.is_sampled and v.is_continuous]\n",
      "\n",
      "\tdef gen_log_prob(self, state):\n",
      "\t\tlog_prob = 0\n",
      "\t\tdst_ = dist.Normal(loc=[0, 0, 0], scale=[1, 1, 1])\n",
      "\t\tlog_prob = log_prob + dst_.log_prob(state['x30001'])\n",
      "\t\tdst_ = dist.Categorical(probs=[0.1, 0.2, 0.7])\n",
      "\t\tlog_prob = log_prob + dst_.log_prob(state['x30002'])\n",
      "\t\tstate['cond_30003'] = (state['x30001'] > 0)\n",
      "\t\tdst_ = dist.Normal(loc=state['x30001'], scale=[1, 1, 1])\n",
      "\t\tif state['cond_30003']:\n",
      "\t\t\tlog_prob = log_prob + dst_.log_prob(state['y30004'])\n",
      "\t\tdst_ = dist.Normal(loc=state['x30002'], scale=[1, 1, 1])\n",
      "\t\tif not state['cond_30003']:\n",
      "\t\t\tlog_prob = log_prob + dst_.log_prob(state['y30005'])\n",
      "\t\treturn log_prob\n",
      "\n",
      "\tdef gen_prior_samples(self):\n",
      "\t\tstate = {}\n",
      "\t\tdst_ = dist.Normal(loc=[0, 0, 0], scale=[1, 1, 1])\n",
      "\t\tstate['x30001'] = dst_.sample()\n",
      "\t\tdst_ = dist.Categorical(probs=[0.1, 0.2, 0.7])\n",
      "\t\tstate['x30002'] = dst_.sample()\n",
      "\t\tstate['cond_30003'] = (state['x30001'] > 0)\n",
      "\t\tdst_ = dist.Normal(loc=state['x30001'], scale=[1, 1, 1])\n",
      "\t\tstate['y30004'] = [1.5, 1.5, 1.5]\n",
      "\t\tdst_ = dist.Normal(loc=state['x30002'], scale=[1, 1, 1])\n",
      "\t\tstate['y30005'] = [1, 1, 1]\n",
      "\t\treturn state\n",
      "\n",
      "\tdef get_arcs(self):\n",
      "\t\treturn self.arcs\n",
      "\n",
      "\tdef get_arcs_names(self):\n",
      "\t\treturn [(u.name, v.name) for (u, v) in self.arcs]\n",
      "\n",
      "\tdef get_conditions(self):\n",
      "\t\treturn self.conditionals\n",
      "\n",
      "\tdef get_vars(self):\n",
      "\t\treturn [v.name for v in self.vertices if v.is_sampled]\n",
      "\n",
      "\tdef get_vertices(self):\n",
      "\t\treturn self.vertices\n",
      "\n",
      "\tdef get_vertices_names(self):\n",
      "\t\treturn [v.name for v in self.vertices]\n",
      "\n",
      "\tdef is_torch_imported(self):\n",
      "\t\timport sys \n",
      "\t\tprint('torch' in sys.modules) \n",
      "\t\tprint(torch.__version__) \n",
      "\t\tprint(type(torch.tensor)) \n",
      "\t\timport inspect \n",
      "\t\tprint(inspect.getfile(torch))\n",
      "\n"
     ]
    }
   ],
   "source": [
    "print(compiled_clojure.code)"
   ]
  },
  {
   "cell_type": "markdown",
   "metadata": {},
   "source": [
    "We can change the models imported by changing the arguments in the `compile_model` function. By specification to our current application the compiler automatically imports `pytorch`. This can be easily removed by going into `ppl_graph_codegen.py` file and then removing the `if not has_dist` block. "
   ]
  },
  {
   "cell_type": "code",
   "execution_count": 4,
   "metadata": {},
   "outputs": [
    {
     "name": "stdout",
     "output_type": "stream",
     "text": [
      "# 2018-10-01 07:45:26.578874\n",
      "import torch\n",
      "import torch.distributions as dist\n",
      "import matplotlib as mpl \n",
      "import numpy as np\n"
     ]
    }
   ],
   "source": [
    "compile_clojure = compile_model(model_if_clojure, language='clojure',imports='import matplotlib as mpl \\nimport numpy as np ')\n",
    "print(compile_clojure.code[:121])"
   ]
  },
  {
   "cell_type": "markdown",
   "metadata": {},
   "source": [
    "## Printing the Graph G(V,E) of the statistical model. \n",
    "\n",
    "Each vertex of the graph is an object, with a set of attributes. These attributes describe the relationships between the vertex and other vertices. In addition to this, the attributes contain information about the observables and latent variables at each vertex.\n"
   ]
  },
  {
   "cell_type": "code",
   "execution_count": 5,
   "metadata": {},
   "outputs": [
    {
     "name": "stdout",
     "output_type": "stream",
     "text": [
      "#Vertices: 4, #Arcs: 2\n",
      "Vertices V:\n",
      "Vertex x30001 [Sample]\n",
      "  Name:           x30001\n",
      "  Ancestors:      \n",
      "  Cond-Ancs.:     \n",
      "  Dist-Args:      {'loc': '[0, 0, 0]', 'scale': '[1, 1, 1]'}\n",
      "  Dist-Code:      dist.Normal([0, 0, 0], [1, 1, 1])\n",
      "  Dist-Name:      Normal\n",
      "  Dist-Type:      DistributionType.CONTINUOUS\n",
      "  Sample-Size:    1\n",
      "Vertex x30002 [Sample]\n",
      "  Name:           x30002\n",
      "  Ancestors:      \n",
      "  Cond-Ancs.:     \n",
      "  Dist-Args:      {'probs': '[0.1, 0.2, 0.7]'}\n",
      "  Dist-Code:      dist.Categorical([0.1, 0.2, 0.7])\n",
      "  Dist-Name:      Categorical\n",
      "  Dist-Type:      DistributionType.DISCRETE\n",
      "  Sample-Size:    1\n",
      "Vertex y30004 [Observe]\n",
      "  Name:           y30004\n",
      "  Ancestors:      x30001\n",
      "  Conditions:     cond_30003=True\n",
      "  Cond-Ancs.:     x30001\n",
      "  Cond-Nodes:     cond_30003\n",
      "  Dist-Args:      {'loc': \"state['x30001']\", 'scale': '[1, 1, 1]'}\n",
      "  Dist-Code:      dist.Normal(state['x30001'], [1, 1, 1])\n",
      "  Dist-Name:      Normal\n",
      "  Dist-Type:      DistributionType.CONTINUOUS\n",
      "  Sample-Size:    1\n",
      "  Observation:    [1.5, 1.5, 1.5]\n",
      "Vertex y30005 [Observe]\n",
      "  Name:           y30005\n",
      "  Ancestors:      x30002\n",
      "  Conditions:     cond_30003=False\n",
      "  Cond-Ancs.:     x30001\n",
      "  Cond-Nodes:     cond_30003\n",
      "  Dist-Args:      {'loc': \"state['x30002']\", 'scale': '[1, 1, 1]'}\n",
      "  Dist-Code:      dist.Normal(state['x30002'], [1, 1, 1])\n",
      "  Dist-Name:      Normal\n",
      "  Dist-Type:      DistributionType.CONTINUOUS\n",
      "  Sample-Size:    1\n",
      "  Observation:    [1, 1, 1]\n",
      "Arcs A:\n",
      "  (x30001, y30004), (x30002, y30005)\n",
      "\n",
      "Conditions C:\n",
      "Condition\n",
      "  Name:         cond_30003\n",
      "  Ancestors:    x30001\n",
      "  Condition:    (state['x30001'] > 0)\n",
      "  Function:     state['x30001']\n",
      "  Op:           >\n",
      "\n",
      "Data D:\n",
      "  -\n",
      "\n"
     ]
    }
   ],
   "source": [
    "print(compile_clojure)"
   ]
  },
  {
   "cell_type": "markdown",
   "metadata": {},
   "source": [
    "We can see from the graph that $x_2$ is only dependent on the observation $y_2$, whereas $x_1$ can be affected by both observations. "
   ]
  },
  {
   "cell_type": "markdown",
   "metadata": {},
   "source": [
    "##  An example of an independent Categorical model\n"
   ]
  },
  {
   "cell_type": "code",
   "execution_count": 6,
   "metadata": {},
   "outputs": [],
   "source": [
    "model_categorical = \"\"\"\n",
    "(let[z (sample (categorical [0.7 0.15 0.15]))\n",
    "    z1 (sample (categorical [0.1 0.5 0.4]))\n",
    "    z2 (sample (categorical [0.2 0.2 0.6]))]\n",
    "    z z1 z2)\"\"\""
   ]
  },
  {
   "cell_type": "code",
   "execution_count": 7,
   "metadata": {},
   "outputs": [],
   "source": [
    "compiled_clojure = compile_model(model_categorical, language='clojure')\n",
    "# print(compiled_clojure.code)\n",
    "vertices = compiled_clojure.vertices"
   ]
  },
  {
   "cell_type": "markdown",
   "metadata": {},
   "source": [
    "### Plotting the depndence graph"
   ]
  },
  {
   "cell_type": "code",
   "execution_count": 8,
   "metadata": {},
   "outputs": [
    {
     "data": {
      "image/png": "[encoded data removed]",
      "text/plain": [
       "<Figure size 432x288 with 1 Axes>"
      ]
     },
     "metadata": {
      "needs_background": "light"
     },
     "output_type": "display_data"
    }
   ],
   "source": [
    "create_network_graph(vertices=vertices)\n",
    "display_graph(vertices=vertices);"
   ]
  },
  {
   "cell_type": "markdown",
   "metadata": {},
   "source": [
    "As you can see, in this model there are no dependencies between the different latent variables."
   ]
  },
  {
   "cell_type": "markdown",
   "metadata": {},
   "source": [
    "## A Hidden Markov Model\n",
    "\n",
    "In a HMM the goal is to infer the hidden states. In doing so we aim to explain how our observations are produced, as the underlying assumption is that the hidden state directly affects the observation produced. This is a very short description, of a very powerful tool. See [here](http://mlg.eng.cam.ac.uk/zoubin/papers/ijprai.pdf) for more details on HMMs. "
   ]
  },
  {
   "cell_type": "code",
   "execution_count": 9,
   "metadata": {},
   "outputs": [],
   "source": [
    "model_hmm_clojure=\"\"\"\n",
    "(defn data [n]\n",
    "  (let [points (vector 0.9 0.8 0.7 0.0 -0.025\n",
    "                       5.0 2.0 0.1 0.0 0.13\n",
    "                       0.45 6.0 0.2 0.3 -1.0 -1.0)]\n",
    "    (get points n)))\n",
    "\n",
    ";; Define the init, transition, and observation distributions\n",
    "(defn get-init-params []\n",
    "  (vector (/ 1. 3.) (/ 1. 3.) (/ 1. 3.)))\n",
    "\n",
    "(defn get-trans-params [k]\n",
    "  (nth (vector (vector 0.1  0.5  0.4 )\n",
    "               (vector 0.2  0.2  0.6 )\n",
    "               (vector 0.7 0.15 0.15 )) k))\n",
    "\n",
    "(defn get-obs-dist [k]\n",
    "  (nth (vector (normal -1. 1.)\n",
    "               (normal  1. 1.)\n",
    "               (normal  0. 1.)) k))\n",
    "\n",
    ";; Function to step through HMM and sample latent state\n",
    "(defn hmm-step [n states]\n",
    "  (let [next-state (sample (categorical (get-trans-params (last states))))]\n",
    "    (observe (get-obs-dist next-state) (data n))\n",
    "    (conj states next-state)))\n",
    "\n",
    ";; Loop through the data\n",
    "(let [init-state (sample (categorical (get-init-params)))]\n",
    "  (loop 16 (vector init-state) hmm-step))\n",
    "\n",
    "\"\"\""
   ]
  },
  {
   "cell_type": "markdown",
   "metadata": {},
   "source": [
    "### Plotting the graphical model"
   ]
  },
  {
   "cell_type": "code",
   "execution_count": 10,
   "metadata": {},
   "outputs": [
    {
     "data": {
      "image/png": "[encoded data removed]",
      "text/plain": [
       "<Figure size 432x288 with 1 Axes>"
      ]
     },
     "metadata": {
      "needs_background": "light"
     },
     "output_type": "display_data"
    }
   ],
   "source": [
    "compiled_clojure = compile_model(model_hmm_clojure, language='clojure')\n",
    "vertices = compiled_clojure.vertices\n",
    "create_network_graph(vertices=vertices)\n",
    "display_graph(vertices=vertices);"
   ]
  },
  {
   "cell_type": "markdown",
   "metadata": {},
   "source": [
    "# PyLFPPL for python based models\n",
    "\n",
    "PyLFPPLs design allows one to use it with many different languages, we so far have built an interface for both `python` and `clojure` code. \n",
    "It is also important to note that the number of distributions one can add to `PyLFPPL` is boundless, as we will show in future walk-throughs. \n",
    "\n",
    "## Bayesian linear regression model\n",
    "\n",
    "The aim of inference in this model is to infer the equation of the line $ x = y*s + b$ (this is written to match the notation below. In general one would see his written as $y = mx +c$).\n",
    "\n",
    "$$slope \\sim \\mathcal{N}(0, 10) $$\n",
    "$$bias \\sim \\mathcal{N}(0, 10) $$\n",
    "\n",
    "Observations\n",
    "$$y = [(1.,2.), (2.1,3.9), (3.,5.3)] $$\n",
    "Constructing the equation of the predicted curve\n",
    "$$x_n = slope \\times y[1,n] + bias$$\n",
    "The likelihood\n",
    "$$y = y[2,n]~|~x_n = \\mathcal{N}(y[2,n]~|~x_n,~\\mathbf{I}) $$   \n",
    "\n",
    "## The Python SPPL code"
   ]
  },
  {
   "cell_type": "code",
   "execution_count": 22,
   "metadata": {},
   "outputs": [],
   "source": [
    "\n",
    "model_lr_python = \"\"\"\n",
    "import torch\n",
    "slope= sample(normal(torch.zeros(1), torch.ones(10.0)))\n",
    "bias= sample(normal(torch.zeros(1), torch.tensor(10.0)))\n",
    "y= torch.tensor([[1.0, 2.1], [2.0, 3.9], [3.0, 5.3]])\n",
    "def f(data,slope,bias,i):\n",
    "    return slope*data[0,i] + bias\n",
    "for i in range(3):\n",
    "    observe(normal(slope*y[0,i] + bias , torch.ones(len(f(y[0,i],slope,bias,i)))),y[1,i])\n",
    "\n",
    "[slope, bias]\n",
    "\"\"\"\n"
   ]
  },
  {
   "cell_type": "code",
   "execution_count": 27,
   "metadata": {},
   "outputs": [],
   "source": [
    "compiled_python = compile_model(model_lr_python, language='python')"
   ]
  },
  {
   "cell_type": "markdown",
   "metadata": {},
   "source": [
    "## The Graph\n"
   ]
  },
  {
   "cell_type": "code",
   "execution_count": 26,
   "metadata": {},
   "outputs": [
    {
     "name": "stdout",
     "output_type": "stream",
     "text": [
      "#Vertices: 5, #Arcs: 6\n",
      "Vertices V:\n",
      "Vertex x30001 [Sample]\n",
      "  Name:           x30001\n",
      "  Ancestors:      \n",
      "  Cond-Ancs.:     \n",
      "  Dist-Args:      {'loc': 'torch.zeros(1)', 'scale': 'torch.ones(10.0)'}\n",
      "  Dist-Code:      dist.Normal(torch.zeros(1), torch.ones(10.0))\n",
      "  Dist-Name:      Normal\n",
      "  Dist-Type:      DistributionType.CONTINUOUS\n",
      "  Sample-Size:    1\n",
      "  Orig. Name:     slope\n",
      "Vertex x30002 [Sample]\n",
      "  Name:           x30002\n",
      "  Ancestors:      \n",
      "  Cond-Ancs.:     \n",
      "  Dist-Args:      {'loc': 'torch.zeros(1)', 'scale': 'torch.tensor(10.0)'}\n",
      "  Dist-Code:      dist.Normal(torch.zeros(1), torch.tensor(10.0))\n",
      "  Dist-Name:      Normal\n",
      "  Dist-Type:      DistributionType.CONTINUOUS\n",
      "  Sample-Size:    1\n",
      "  Orig. Name:     bias\n",
      "Vertex y30003 [Observe]\n",
      "  Name:           y30003\n",
      "  Ancestors:      x30001, x30002\n",
      "  Conditions:     \n",
      "  Cond-Ancs.:     \n",
      "  Cond-Nodes:     \n",
      "  Dist-Args:      {'loc': \"((state['x30001'] * torch.tensor([[1.0, 2.1], [2.0, 3.9], [3.0, 5.3]])[[0, 0]]) + state['x30002'])\", 'scale': \"torch.ones(len(((state['x30001'] * torch.tensor([[1.0, 2.1], [2.0, 3.9], [3.0, 5.3]])[[0, 0]][[0, 0]]) + state['x30002'])))\"}\n",
      "  Dist-Code:      dist.Normal(((state['x30001'] * torch.tensor([[1.0, 2.1], [2.0, 3.9], [3.0, 5.3]])[[0, 0]]) + state['x30002']), torch.ones(len(((state['x30001'] * torch.tensor([[1.0, 2.1], [2.0, 3.9], [3.0, 5.3]])[[0, 0]][[0, 0]]) + state['x30002']))))\n",
      "  Dist-Name:      Normal\n",
      "  Dist-Type:      DistributionType.CONTINUOUS\n",
      "  Sample-Size:    1\n",
      "  Observation:    torch.tensor([[1.0, 2.1], [2.0, 3.9], [3.0, 5.3]])[[1, 0]]\n",
      "Vertex y30004 [Observe]\n",
      "  Name:           y30004\n",
      "  Ancestors:      x30001, x30002\n",
      "  Conditions:     \n",
      "  Cond-Ancs.:     \n",
      "  Cond-Nodes:     \n",
      "  Dist-Args:      {'loc': \"((state['x30001'] * torch.tensor([[1.0, 2.1], [2.0, 3.9], [3.0, 5.3]])[[0, 1]]) + state['x30002'])\", 'scale': \"torch.ones(len(((state['x30001'] * torch.tensor([[1.0, 2.1], [2.0, 3.9], [3.0, 5.3]])[[0, 1]][[0, 1]]) + state['x30002'])))\"}\n",
      "  Dist-Code:      dist.Normal(((state['x30001'] * torch.tensor([[1.0, 2.1], [2.0, 3.9], [3.0, 5.3]])[[0, 1]]) + state['x30002']), torch.ones(len(((state['x30001'] * torch.tensor([[1.0, 2.1], [2.0, 3.9], [3.0, 5.3]])[[0, 1]][[0, 1]]) + state['x30002']))))\n",
      "  Dist-Name:      Normal\n",
      "  Dist-Type:      DistributionType.CONTINUOUS\n",
      "  Sample-Size:    1\n",
      "  Observation:    torch.tensor([[1.0, 2.1], [2.0, 3.9], [3.0, 5.3]])[[1, 1]]\n",
      "Vertex y30005 [Observe]\n",
      "  Name:           y30005\n",
      "  Ancestors:      x30001, x30002\n",
      "  Conditions:     \n",
      "  Cond-Ancs.:     \n",
      "  Cond-Nodes:     \n",
      "  Dist-Args:      {'loc': \"((state['x30001'] * torch.tensor([[1.0, 2.1], [2.0, 3.9], [3.0, 5.3]])[[0, 2]]) + state['x30002'])\", 'scale': \"torch.ones(len(((state['x30001'] * torch.tensor([[1.0, 2.1], [2.0, 3.9], [3.0, 5.3]])[[0, 2]][[0, 2]]) + state['x30002'])))\"}\n",
      "  Dist-Code:      dist.Normal(((state['x30001'] * torch.tensor([[1.0, 2.1], [2.0, 3.9], [3.0, 5.3]])[[0, 2]]) + state['x30002']), torch.ones(len(((state['x30001'] * torch.tensor([[1.0, 2.1], [2.0, 3.9], [3.0, 5.3]])[[0, 2]][[0, 2]]) + state['x30002']))))\n",
      "  Dist-Name:      Normal\n",
      "  Dist-Type:      DistributionType.CONTINUOUS\n",
      "  Sample-Size:    1\n",
      "  Observation:    torch.tensor([[1.0, 2.1], [2.0, 3.9], [3.0, 5.3]])[[1, 2]]\n",
      "Arcs A:\n",
      "  (x30001, y30005), (x30002, y30003), (x30001, y30004), (x30001, y30003), (x30002, y30004), (x30002, y30005)\n",
      "\n",
      "Conditions C:\n",
      "  -\n",
      "\n",
      "Data D:\n",
      "  -\n",
      "\n"
     ]
    }
   ],
   "source": [
    "print(compiled_python)"
   ]
  },
  {
   "cell_type": "code",
   "execution_count": 28,
   "metadata": {},
   "outputs": [
    {
     "name": "stdout",
     "output_type": "stream",
     "text": [
      "# 2018-10-01 07:52:41.316750\n",
      "import torch\n",
      "import torch.distributions as dist\n",
      "import torch\n",
      "\n",
      "class Model():\n",
      "\n",
      "\tdef __init__(self, vertices: set, arcs: set, data: set, conditionals: set):\n",
      "\t\tsuper().__init__()\n",
      "\t\tself.vertices = vertices\n",
      "\t\tself.arcs = arcs\n",
      "\t\tself.data = data\n",
      "\t\tself.conditionals = conditionals\n",
      "\t\n",
      "\tdef __repr__(self):\n",
      "\t\tV = '\\n'.join(sorted([repr(v) for v in self.vertices]))\n",
      "\t\tA = ', '.join(['({}, {})'.format(u.name, v.name) for (u, v) in self.arcs]) if len(self.arcs) > 0 else '  -'\n",
      "\t\tC = '\\n'.join(sorted([repr(v) for v in self.conditionals])) if len(self.conditionals) > 0 else '  -'\n",
      "\t\tD = '\\n'.join([repr(u) for u in self.data]) if len(self.data) > 0 else '  -'\n",
      "\t\tgraph = 'Vertices V:\\n{V}\\nArcs A:\\n  {A}\\n\\nConditions C:\\n{C}\\n\\nData D:\\n{D}\\n'.format(V=V, A=A, C=C, D=D)\n",
      "\t\tgraph = '#Vertices: {}, #Arcs: {}\\n'.format(len(self.vertices), len(self.arcs)) + graph\n",
      "\t\treturn graph\n",
      "\t\n",
      "\tdef gen_cond_bit_vector(self, state):\n",
      "\t\tresult = 0\n",
      "\t\tfor cond in self.conditionals:\n",
      "\t\t\tresult = cond.update_bit_vector(state, result)\n",
      "\t\treturn result\n",
      "\n",
      "\tdef gen_cond_vars(self):\n",
      "\t\treturn [c.name for c in self.conditionals]\n",
      "\n",
      "\tdef gen_cont_vars(self):\n",
      "\t\treturn [v.name for v in self.vertices if v.is_continuous and not v.is_conditional and v.is_sampled]\n",
      "\n",
      "\tdef gen_disc_vars(self):\n",
      "\t\treturn [v.name for v in self.vertices if v.is_discrete and v.is_sampled]\n",
      "\n",
      "\tdef gen_if_vars(self):\n",
      "\t\treturn [v.name for v in self.vertices if v.is_conditional and v.is_sampled and v.is_continuous]\n",
      "\n",
      "\tdef gen_log_prob(self, state):\n",
      "\t\tlog_prob = 0\n",
      "\t\tdst_ = dist.Normal(loc=torch.zeros(1), scale=torch.ones(10.0))\n",
      "\t\tlog_prob = log_prob + dst_.log_prob(state['x30001'])\n",
      "\t\tdst_ = dist.Normal(loc=torch.zeros(1), scale=torch.tensor(10.0))\n",
      "\t\tlog_prob = log_prob + dst_.log_prob(state['x30002'])\n",
      "\t\tdst_ = dist.Normal(loc=((state['x30001'] * torch.tensor([[1.0, 2.1], [2.0, 3.9], [3.0, 5.3]])[[0, 0]]) + state['x30002']), scale=torch.ones(len(((state['x30001'] * torch.tensor([[1.0, 2.1], [2.0, 3.9], [3.0, 5.3]])[[0, 0]][[0, 0]]) + state['x30002']))))\n",
      "\t\tlog_prob = log_prob + dst_.log_prob(state['y30003'])\n",
      "\t\tdst_ = dist.Normal(loc=((state['x30001'] * torch.tensor([[1.0, 2.1], [2.0, 3.9], [3.0, 5.3]])[[0, 1]]) + state['x30002']), scale=torch.ones(len(((state['x30001'] * torch.tensor([[1.0, 2.1], [2.0, 3.9], [3.0, 5.3]])[[0, 1]][[0, 1]]) + state['x30002']))))\n",
      "\t\tlog_prob = log_prob + dst_.log_prob(state['y30004'])\n",
      "\t\tdst_ = dist.Normal(loc=((state['x30001'] * torch.tensor([[1.0, 2.1], [2.0, 3.9], [3.0, 5.3]])[[0, 2]]) + state['x30002']), scale=torch.ones(len(((state['x30001'] * torch.tensor([[1.0, 2.1], [2.0, 3.9], [3.0, 5.3]])[[0, 2]][[0, 2]]) + state['x30002']))))\n",
      "\t\tlog_prob = log_prob + dst_.log_prob(state['y30005'])\n",
      "\t\treturn log_prob\n",
      "\n",
      "\tdef gen_prior_samples(self):\n",
      "\t\tstate = {}\n",
      "\t\tdst_ = dist.Normal(loc=torch.zeros(1), scale=torch.ones(10.0))\n",
      "\t\tstate['x30001'] = dst_.sample()\n",
      "\t\tdst_ = dist.Normal(loc=torch.zeros(1), scale=torch.tensor(10.0))\n",
      "\t\tstate['x30002'] = dst_.sample()\n",
      "\t\tdst_ = dist.Normal(loc=((state['x30001'] * torch.tensor([[1.0, 2.1], [2.0, 3.9], [3.0, 5.3]])[[0, 0]]) + state['x30002']), scale=torch.ones(len(((state['x30001'] * torch.tensor([[1.0, 2.1], [2.0, 3.9], [3.0, 5.3]])[[0, 0]][[0, 0]]) + state['x30002']))))\n",
      "\t\tstate['y30003'] = torch.tensor([[1.0, 2.1], [2.0, 3.9], [3.0, 5.3]])[[1, 0]]\n",
      "\t\tdst_ = dist.Normal(loc=((state['x30001'] * torch.tensor([[1.0, 2.1], [2.0, 3.9], [3.0, 5.3]])[[0, 1]]) + state['x30002']), scale=torch.ones(len(((state['x30001'] * torch.tensor([[1.0, 2.1], [2.0, 3.9], [3.0, 5.3]])[[0, 1]][[0, 1]]) + state['x30002']))))\n",
      "\t\tstate['y30004'] = torch.tensor([[1.0, 2.1], [2.0, 3.9], [3.0, 5.3]])[[1, 1]]\n",
      "\t\tdst_ = dist.Normal(loc=((state['x30001'] * torch.tensor([[1.0, 2.1], [2.0, 3.9], [3.0, 5.3]])[[0, 2]]) + state['x30002']), scale=torch.ones(len(((state['x30001'] * torch.tensor([[1.0, 2.1], [2.0, 3.9], [3.0, 5.3]])[[0, 2]][[0, 2]]) + state['x30002']))))\n",
      "\t\tstate['y30005'] = torch.tensor([[1.0, 2.1], [2.0, 3.9], [3.0, 5.3]])[[1, 2]]\n",
      "\t\treturn state\n",
      "\n",
      "\tdef get_arcs(self):\n",
      "\t\treturn self.arcs\n",
      "\n",
      "\tdef get_arcs_names(self):\n",
      "\t\treturn [(u.name, v.name) for (u, v) in self.arcs]\n",
      "\n",
      "\tdef get_conditions(self):\n",
      "\t\treturn self.conditionals\n",
      "\n",
      "\tdef get_vars(self):\n",
      "\t\treturn [v.name for v in self.vertices if v.is_sampled]\n",
      "\n",
      "\tdef get_vertices(self):\n",
      "\t\treturn self.vertices\n",
      "\n",
      "\tdef get_vertices_names(self):\n",
      "\t\treturn [v.name for v in self.vertices]\n",
      "\n",
      "\tdef is_torch_imported(self):\n",
      "\t\timport sys \n",
      "\t\tprint('torch' in sys.modules) \n",
      "\t\tprint(torch.__version__) \n",
      "\t\tprint(type(torch.tensor)) \n",
      "\t\timport inspect \n",
      "\t\tprint(inspect.getfile(torch))\n",
      "\n"
     ]
    }
   ],
   "source": [
    "print(compiled_python.code)"
   ]
  },
  {
   "cell_type": "markdown",
   "metadata": {},
   "source": [
    "## The dependency graph\n",
    "\n",
    "With `python` models we can plot the user defined label names. "
   ]
  },
  {
   "cell_type": "code",
   "execution_count": 29,
   "metadata": {},
   "outputs": [
    {
     "data": {
      "image/png": "[encoded data removed]",
      "text/plain": [
       "<Figure size 432x288 with 1 Axes>"
      ]
     },
     "metadata": {
      "needs_background": "light"
     },
     "output_type": "display_data"
    }
   ],
   "source": [
    "vertices = compiled_python.vertices\n",
    "create_network_graph(vertices=vertices)\n",
    "display_graph(vertices=vertices);"
   ]
  },
  {
   "cell_type": "markdown",
   "metadata": {},
   "source": [
    "# Models in pure python\n",
    "We don't need to import `torch`, we can actually write models in pure python, for example:"
   ]
  },
  {
   "cell_type": "code",
   "execution_count": 2,
   "metadata": {},
   "outputs": [],
   "source": [
    "model_purepython=\"\"\"\n",
    "mean= sample(poisson(3))\n",
    "x= sample(gamma(mean,1))\n",
    "y= 10\n",
    "observe(normal(x,5), y)\n",
    "\"\"\""
   ]
  },
  {
   "cell_type": "code",
   "execution_count": null,
   "metadata": {},
   "outputs": [],
   "source": [
    "compiled_python = compile_model(model_purepython, language='python')"
   ]
  },
  {
   "cell_type": "markdown",
   "metadata": {},
   "source": [
    "## An Example of the Graph G(V,E)"
   ]
  },
  {
   "cell_type": "code",
   "execution_count": 57,
   "metadata": {},
   "outputs": [
    {
     "name": "stdout",
     "output_type": "stream",
     "text": [
      "#Vertices: 3, #Arcs: 2\n",
      "Vertices V:\n",
      "Vertex x30001 [Sample]\n",
      "  Name:           x30001\n",
      "  Ancestors:      \n",
      "  Cond-Ancs.:     \n",
      "  Dist-Args:      {'lam': '3'}\n",
      "  Dist-Code:      dist.Poisson(3)\n",
      "  Dist-Name:      Poisson\n",
      "  Dist-Type:      DistributionType.DISCRETE\n",
      "  Sample-Size:    1\n",
      "  Orig. Name:     mean\n",
      "Vertex x30002 [Sample]\n",
      "  Name:           x30002\n",
      "  Ancestors:      x30001\n",
      "  Cond-Ancs.:     \n",
      "  Dist-Args:      {'alpha': \"state['x30001']\", 'beta': '1'}\n",
      "  Dist-Code:      dist.Gamma(state['x30001'], 1)\n",
      "  Dist-Name:      Gamma\n",
      "  Dist-Type:      DistributionType.CONTINUOUS\n",
      "  Sample-Size:    1\n",
      "  Orig. Name:     x\n",
      "Vertex y30003 [Observe]\n",
      "  Name:           y30003\n",
      "  Ancestors:      x30002\n",
      "  Conditions:     \n",
      "  Cond-Ancs.:     \n",
      "  Cond-Nodes:     \n",
      "  Dist-Args:      {'loc': \"state['x30002']\", 'scale': '5'}\n",
      "  Dist-Code:      dist.Normal(state['x30002'], 5)\n",
      "  Dist-Name:      Normal\n",
      "  Dist-Type:      DistributionType.CONTINUOUS\n",
      "  Sample-Size:    1\n",
      "  Observation:    10\n",
      "Arcs A:\n",
      "  (x30001, x30002), (x30002, y30003)\n",
      "\n",
      "Conditions C:\n",
      "  -\n",
      "\n",
      "Data D:\n",
      "  -\n",
      "\n"
     ]
    }
   ],
   "source": [
    "print(compiled_python)"
   ]
  },
  {
   "cell_type": "code",
   "execution_count": 58,
   "metadata": {},
   "outputs": [
    {
     "data": {
      "image/png": "[encoded data removed]",
      "text/plain": [
       "<Figure size 432x288 with 1 Axes>"
      ]
     },
     "metadata": {},
     "output_type": "display_data"
    }
   ],
   "source": [
    "vertices = compiled_python.vertices\n",
    "create_network_graph(vertices=vertices)\n",
    "display_graph(vertices=vertices);"
   ]
  },
  {
   "cell_type": "markdown",
   "metadata": {},
   "source": [
    "## Gaussian Mixture model\n",
    "\n",
    "In this model the goal of the inference procedure is to infer the unknown means that describe the observations. Gaussian mixtures assume that the data can be modelled by a collection of Gaussian distributions (of course this is by no means always true). "
   ]
  },
  {
   "cell_type": "code",
   "execution_count": 3,
   "metadata": {},
   "outputs": [],
   "source": [
    "model_gmm2 = \"\"\"\n",
    "import torch\n",
    "\n",
    "means= 2\n",
    "samples= 10\n",
    "y= [-2.0, -2.5, -1.7, -1.9, -2.2, 1.5, 2.2, 3.0, 1.2, 2.8,-1.7, -1.3,  3.2,  0.8, -0.9, 0.3, 1.4, 2.1, 0.8, 1.9] \n",
    "ys= torch.tensor([y])\n",
    "pi= torch.tensor(0.5*torch.ones(samples,means))\n",
    "mus= sample(normal(torch.zeros(means,1), 2*torch.ones(means,1)))\n",
    "\n",
    "zn= sample(categorical(pi), sample_size=2)\n",
    "\n",
    "for i in range(samples):\n",
    "    index = (zn == i).nonzero()\n",
    "    observe(normal(mus[i]*torch.ones(len(index),1), 2*torch.ones(len(index),1)), ys[index])\n",
    "\"\"\""
   ]
  },
  {
   "cell_type": "code",
   "execution_count": null,
   "metadata": {},
   "outputs": [],
   "source": [
    "\n",
    "compiled_python = compile_model(model_gmm2, language='python')"
   ]
  },
  {
   "cell_type": "markdown",
   "metadata": {},
   "source": [
    "## The code output"
   ]
  },
  {
   "cell_type": "code",
   "execution_count": 36,
   "metadata": {},
   "outputs": [
    {
     "name": "stdout",
     "output_type": "stream",
     "text": [
      "# 2018-06-15 08:40:37.239078\n",
      "import torch\n",
      "import torch.distributions as dist\n",
      "import torch\n",
      "\n",
      "class Model():\n",
      "\n",
      "\tdef __init__(self, vertices: set, arcs: set, data: set, conditionals: set):\n",
      "\t\tsuper().__init__()\n",
      "\t\tself.vertices = vertices\n",
      "\t\tself.arcs = arcs\n",
      "\t\tself.data = data\n",
      "\t\tself.conditionals = conditionals\n",
      "\t\n",
      "\tdef __repr__(self):\n",
      "\t\tV = '\\n'.join(sorted([repr(v) for v in self.vertices]))\n",
      "\t\tA = ', '.join(['({}, {})'.format(u.name, v.name) for (u, v) in self.arcs]) if len(self.arcs) > 0 else '  -'\n",
      "\t\tC = '\\n'.join(sorted([repr(v) for v in self.conditionals])) if len(self.conditionals) > 0 else '  -'\n",
      "\t\tD = '\\n'.join([repr(u) for u in self.data]) if len(self.data) > 0 else '  -'\n",
      "\t\tgraph = 'Vertices V:\\n{V}\\nArcs A:\\n  {A}\\n\\nConditions C:\\n{C}\\n\\nData D:\\n{D}\\n'.format(V=V, A=A, C=C, D=D)\n",
      "\t\tgraph = '#Vertices: {}, #Arcs: {}\\n'.format(len(self.vertices), len(self.arcs)) + graph\n",
      "\t\treturn graph\n",
      "\t\n",
      "\tdef gen_cond_bit_vector(self, state):\n",
      "\t\tresult = 0\n",
      "\t\tfor cond in self.conditionals:\n",
      "\t\t\tresult = cond.update_bit_vector(state, result)\n",
      "\t\treturn result\n",
      "\n",
      "\tdef gen_cond_vars(self):\n",
      "\t\treturn [c.name for c in self.conditionals]\n",
      "\n",
      "\tdef gen_cont_vars(self):\n",
      "\t\treturn [v.name for v in self.vertices if v.is_continuous and not v.is_conditional and v.is_sampled]\n",
      "\n",
      "\tdef gen_disc_vars(self):\n",
      "\t\treturn [v.name for v in self.vertices if v.is_discrete and v.is_sampled]\n",
      "\n",
      "\tdef gen_if_vars(self):\n",
      "\t\treturn [v.name for v in self.vertices if v.is_conditional and v.is_sampled and v.is_continuous]\n",
      "\n",
      "\tdef gen_log_pdf(self, state):\n",
      "\t\tlog_pdf = 0\n",
      "\t\tdst_ = dist.Normal(loc=torch.zeros(2, 1), scale=(2 * torch.ones(2, 1)))\n",
      "\t\tlog_pdf = log_pdf + dst_.log_pdf(state['x30001'])\n",
      "\t\tdst_ = dist.Categorical(probs=torch.tensor((0.5 * torch.ones(10, 2))))\n",
      "\t\tlog_pdf = log_pdf + dst_.log_pdf(state['x30002'])\n",
      "\t\tdst_ = dist.Normal(loc=(state['x30001'][0] * torch.ones(len((state['x30002'] == 0).nonzero()), 1)), scale=(2 * torch.ones(len((state['x30002'] == 0).nonzero()), 1)))\n",
      "\t\tlog_pdf = log_pdf + dst_.log_pdf(state['y30004'])\n",
      "\t\tdst_ = dist.Normal(loc=(state['x30001'][1] * torch.ones(len((state['x30002'] == 1).nonzero()), 1)), scale=(2 * torch.ones(len((state['x30002'] == 1).nonzero()), 1)))\n",
      "\t\tlog_pdf = log_pdf + dst_.log_pdf(state['y30005'])\n",
      "\t\tdst_ = dist.Normal(loc=(state['x30001'][2] * torch.ones(len((state['x30002'] == 2).nonzero()), 1)), scale=(2 * torch.ones(len((state['x30002'] == 2).nonzero()), 1)))\n",
      "\t\tlog_pdf = log_pdf + dst_.log_pdf(state['y30006'])\n",
      "\t\tdst_ = dist.Normal(loc=(state['x30001'][3] * torch.ones(len((state['x30002'] == 3).nonzero()), 1)), scale=(2 * torch.ones(len((state['x30002'] == 3).nonzero()), 1)))\n",
      "\t\tlog_pdf = log_pdf + dst_.log_pdf(state['y30007'])\n",
      "\t\tdst_ = dist.Normal(loc=(state['x30001'][4] * torch.ones(len((state['x30002'] == 4).nonzero()), 1)), scale=(2 * torch.ones(len((state['x30002'] == 4).nonzero()), 1)))\n",
      "\t\tlog_pdf = log_pdf + dst_.log_pdf(state['y30008'])\n",
      "\t\tdst_ = dist.Normal(loc=(state['x30001'][5] * torch.ones(len((state['x30002'] == 5).nonzero()), 1)), scale=(2 * torch.ones(len((state['x30002'] == 5).nonzero()), 1)))\n",
      "\t\tlog_pdf = log_pdf + dst_.log_pdf(state['y30009'])\n",
      "\t\tdst_ = dist.Normal(loc=(state['x30001'][6] * torch.ones(len((state['x30002'] == 6).nonzero()), 1)), scale=(2 * torch.ones(len((state['x30002'] == 6).nonzero()), 1)))\n",
      "\t\tlog_pdf = log_pdf + dst_.log_pdf(state['y30010'])\n",
      "\t\tdst_ = dist.Normal(loc=(state['x30001'][7] * torch.ones(len((state['x30002'] == 7).nonzero()), 1)), scale=(2 * torch.ones(len((state['x30002'] == 7).nonzero()), 1)))\n",
      "\t\tlog_pdf = log_pdf + dst_.log_pdf(state['y30011'])\n",
      "\t\tdst_ = dist.Normal(loc=(state['x30001'][8] * torch.ones(len((state['x30002'] == 8).nonzero()), 1)), scale=(2 * torch.ones(len((state['x30002'] == 8).nonzero()), 1)))\n",
      "\t\tlog_pdf = log_pdf + dst_.log_pdf(state['y30012'])\n",
      "\t\tdst_ = dist.Normal(loc=(state['x30001'][9] * torch.ones(len((state['x30002'] == 9).nonzero()), 1)), scale=(2 * torch.ones(len((state['x30002'] == 9).nonzero()), 1)))\n",
      "\t\tlog_pdf = log_pdf + dst_.log_pdf(state['y30013'])\n",
      "\t\treturn log_pdf\n",
      "\n",
      "\tdef gen_log_pdf_transformed(self, state):\n",
      "\t\tlog_pdf = 0\n",
      "\t\tdst_ = dist.Normal(loc=torch.zeros(2, 1), scale=(2 * torch.ones(2, 1)), transformed=True)\n",
      "\t\tlog_pdf = log_pdf + dst_.log_pdf(state['x30001'])\n",
      "\t\tdst_ = dist.Categorical(probs=torch.tensor((0.5 * torch.ones(10, 2))), transformed=True)\n",
      "\t\tlog_pdf = log_pdf + dst_.log_pdf(state['x30002'])\n",
      "\t\tdst_ = dist.Normal(loc=(state['x30001'][0] * torch.ones(len((state['x30002'] == 0).nonzero()), 1)), scale=(2 * torch.ones(len((state['x30002'] == 0).nonzero()), 1)), transformed=True)\n",
      "\t\tlog_pdf = log_pdf + dst_.log_pdf(state['y30004'])\n",
      "\t\tdst_ = dist.Normal(loc=(state['x30001'][1] * torch.ones(len((state['x30002'] == 1).nonzero()), 1)), scale=(2 * torch.ones(len((state['x30002'] == 1).nonzero()), 1)), transformed=True)\n",
      "\t\tlog_pdf = log_pdf + dst_.log_pdf(state['y30005'])\n",
      "\t\tdst_ = dist.Normal(loc=(state['x30001'][2] * torch.ones(len((state['x30002'] == 2).nonzero()), 1)), scale=(2 * torch.ones(len((state['x30002'] == 2).nonzero()), 1)), transformed=True)\n",
      "\t\tlog_pdf = log_pdf + dst_.log_pdf(state['y30006'])\n",
      "\t\tdst_ = dist.Normal(loc=(state['x30001'][3] * torch.ones(len((state['x30002'] == 3).nonzero()), 1)), scale=(2 * torch.ones(len((state['x30002'] == 3).nonzero()), 1)), transformed=True)\n",
      "\t\tlog_pdf = log_pdf + dst_.log_pdf(state['y30007'])\n",
      "\t\tdst_ = dist.Normal(loc=(state['x30001'][4] * torch.ones(len((state['x30002'] == 4).nonzero()), 1)), scale=(2 * torch.ones(len((state['x30002'] == 4).nonzero()), 1)), transformed=True)\n",
      "\t\tlog_pdf = log_pdf + dst_.log_pdf(state['y30008'])\n",
      "\t\tdst_ = dist.Normal(loc=(state['x30001'][5] * torch.ones(len((state['x30002'] == 5).nonzero()), 1)), scale=(2 * torch.ones(len((state['x30002'] == 5).nonzero()), 1)), transformed=True)\n",
      "\t\tlog_pdf = log_pdf + dst_.log_pdf(state['y30009'])\n",
      "\t\tdst_ = dist.Normal(loc=(state['x30001'][6] * torch.ones(len((state['x30002'] == 6).nonzero()), 1)), scale=(2 * torch.ones(len((state['x30002'] == 6).nonzero()), 1)), transformed=True)\n",
      "\t\tlog_pdf = log_pdf + dst_.log_pdf(state['y30010'])\n",
      "\t\tdst_ = dist.Normal(loc=(state['x30001'][7] * torch.ones(len((state['x30002'] == 7).nonzero()), 1)), scale=(2 * torch.ones(len((state['x30002'] == 7).nonzero()), 1)), transformed=True)\n",
      "\t\tlog_pdf = log_pdf + dst_.log_pdf(state['y30011'])\n",
      "\t\tdst_ = dist.Normal(loc=(state['x30001'][8] * torch.ones(len((state['x30002'] == 8).nonzero()), 1)), scale=(2 * torch.ones(len((state['x30002'] == 8).nonzero()), 1)), transformed=True)\n",
      "\t\tlog_pdf = log_pdf + dst_.log_pdf(state['y30012'])\n",
      "\t\tdst_ = dist.Normal(loc=(state['x30001'][9] * torch.ones(len((state['x30002'] == 9).nonzero()), 1)), scale=(2 * torch.ones(len((state['x30002'] == 9).nonzero()), 1)), transformed=True)\n",
      "\t\tlog_pdf = log_pdf + dst_.log_pdf(state['y30013'])\n",
      "\t\treturn log_pdf.sum()\n",
      "\n",
      "\tdef gen_prior_samples(self):\n",
      "\t\tstate = {}\n",
      "\t\tdst_ = dist.Normal(loc=torch.zeros(2, 1), scale=(2 * torch.ones(2, 1)))\n",
      "\t\tstate['x30001'] = dst_.sample()\n",
      "\t\tdst_ = dist.Categorical(probs=torch.tensor((0.5 * torch.ones(10, 2))))\n",
      "\t\tstate['x30002'] = dst_.sample(sample_size=2)\n",
      "\t\tstate['data_30003'] = [-2.0, -2.5, -1.7, -1.9, -2.2, 1.5, 2.2, 3.0, 1.2, 2.8, -1.7, -1.3, 3.2, 0.8, -0.9, 0.3, 1.4, 2.1, 0.8, 1.9]\n",
      "\t\tdst_ = dist.Normal(loc=(state['x30001'][0] * torch.ones(len((state['x30002'] == 0).nonzero()), 1)), scale=(2 * torch.ones(len((state['x30002'] == 0).nonzero()), 1)))\n",
      "\t\tstate['y30004'] = torch.tensor([state['data_30003']])[(state['x30002'] == 0).nonzero()]\n",
      "\t\tdst_ = dist.Normal(loc=(state['x30001'][1] * torch.ones(len((state['x30002'] == 1).nonzero()), 1)), scale=(2 * torch.ones(len((state['x30002'] == 1).nonzero()), 1)))\n",
      "\t\tstate['y30005'] = torch.tensor([state['data_30003']])[(state['x30002'] == 1).nonzero()]\n",
      "\t\tdst_ = dist.Normal(loc=(state['x30001'][2] * torch.ones(len((state['x30002'] == 2).nonzero()), 1)), scale=(2 * torch.ones(len((state['x30002'] == 2).nonzero()), 1)))\n",
      "\t\tstate['y30006'] = torch.tensor([state['data_30003']])[(state['x30002'] == 2).nonzero()]\n",
      "\t\tdst_ = dist.Normal(loc=(state['x30001'][3] * torch.ones(len((state['x30002'] == 3).nonzero()), 1)), scale=(2 * torch.ones(len((state['x30002'] == 3).nonzero()), 1)))\n",
      "\t\tstate['y30007'] = torch.tensor([state['data_30003']])[(state['x30002'] == 3).nonzero()]\n",
      "\t\tdst_ = dist.Normal(loc=(state['x30001'][4] * torch.ones(len((state['x30002'] == 4).nonzero()), 1)), scale=(2 * torch.ones(len((state['x30002'] == 4).nonzero()), 1)))\n",
      "\t\tstate['y30008'] = torch.tensor([state['data_30003']])[(state['x30002'] == 4).nonzero()]\n",
      "\t\tdst_ = dist.Normal(loc=(state['x30001'][5] * torch.ones(len((state['x30002'] == 5).nonzero()), 1)), scale=(2 * torch.ones(len((state['x30002'] == 5).nonzero()), 1)))\n",
      "\t\tstate['y30009'] = torch.tensor([state['data_30003']])[(state['x30002'] == 5).nonzero()]\n",
      "\t\tdst_ = dist.Normal(loc=(state['x30001'][6] * torch.ones(len((state['x30002'] == 6).nonzero()), 1)), scale=(2 * torch.ones(len((state['x30002'] == 6).nonzero()), 1)))\n",
      "\t\tstate['y30010'] = torch.tensor([state['data_30003']])[(state['x30002'] == 6).nonzero()]\n",
      "\t\tdst_ = dist.Normal(loc=(state['x30001'][7] * torch.ones(len((state['x30002'] == 7).nonzero()), 1)), scale=(2 * torch.ones(len((state['x30002'] == 7).nonzero()), 1)))\n",
      "\t\tstate['y30011'] = torch.tensor([state['data_30003']])[(state['x30002'] == 7).nonzero()]\n",
      "\t\tdst_ = dist.Normal(loc=(state['x30001'][8] * torch.ones(len((state['x30002'] == 8).nonzero()), 1)), scale=(2 * torch.ones(len((state['x30002'] == 8).nonzero()), 1)))\n",
      "\t\tstate['y30012'] = torch.tensor([state['data_30003']])[(state['x30002'] == 8).nonzero()]\n",
      "\t\tdst_ = dist.Normal(loc=(state['x30001'][9] * torch.ones(len((state['x30002'] == 9).nonzero()), 1)), scale=(2 * torch.ones(len((state['x30002'] == 9).nonzero()), 1)))\n",
      "\t\tstate['y30013'] = torch.tensor([state['data_30003']])[(state['x30002'] == 9).nonzero()]\n",
      "\t\treturn state\n",
      "\n",
      "\tdef get_arcs(self):\n",
      "\t\treturn self.arcs\n",
      "\n",
      "\tdef get_arcs_names(self):\n",
      "\t\treturn [(u.name, v.name) for (u, v) in self.arcs]\n",
      "\n",
      "\tdef get_conditions(self):\n",
      "\t\treturn self.conditionals\n",
      "\n",
      "\tdef get_vars(self):\n",
      "\t\treturn [v.name for v in self.vertices if v.is_sampled]\n",
      "\n",
      "\tdef get_vertices(self):\n",
      "\t\treturn self.vertices\n",
      "\n",
      "\tdef get_vertices_names(self):\n",
      "\t\treturn [v.name for v in self.vertices]\n",
      "\n",
      "\tdef is_torch_imported(self):\n",
      "\t\timport sys \n",
      "\t\tprint('torch' in sys.modules) \n",
      "\t\tprint(torch.__version__) \n",
      "\t\tprint(type(torch.tensor)) \n",
      "\t\timport inspect \n",
      "\t\tprint(inspect.getfile(torch))\n",
      "\n"
     ]
    }
   ],
   "source": [
    "print(compiled_python.code)"
   ]
  },
  {
   "cell_type": "markdown",
   "metadata": {},
   "source": [
    "## The dependency graph"
   ]
  },
  {
   "cell_type": "code",
   "execution_count": 60,
   "metadata": {},
   "outputs": [
    {
     "data": {
      "image/png": "[encoded data removed]",
      "text/plain": [
       "<Figure size 432x288 with 1 Axes>"
      ]
     },
     "metadata": {},
     "output_type": "display_data"
    }
   ],
   "source": [
    "vertices = compiled_python.vertices\n",
    "create_network_graph(vertices=vertices)\n",
    "display_graph(vertices=vertices);"
   ]
  },
  {
   "cell_type": "markdown",
   "metadata": {},
   "source": [
    "## Coal Mining model\n",
    "\n",
    "This model is popular change point detection model in the statistics community. The goal of the model is to infer, whether or not improvements in technology and safety had an impact on reducing the number of coal mining related deaths. See [here](https://www.google.com/url?sa=t&rct=j&q=&esrc=s&source=web&cd=7&ved=0ahUKEwibzpmXxeTbAhVIPhQKHRxGCVEQFghFMAY&url=https%3A%2F%2Fwiki.helsinki.fi%2Fdownload%2Fattachments%2F48865343%2FWB.pdf&usg=AOvVaw0Vx-U9LuQU4j9W-dnLpZgr) for more details.  \n"
   ]
  },
  {
   "cell_type": "code",
   "execution_count": 47,
   "metadata": {},
   "outputs": [],
   "source": [
    "model_coal_mining=\"\"\"\n",
    "e= sample(exponential(1))\n",
    "l= sample(exponential(1))\n",
    "T= 10\n",
    "s= sample(uniform(0,10))\n",
    "y= [4,5,4,1,0,4,3,4,0,6,3,3,4,0,2,6,3,3,5,4,5,3,1,4,4,1,5,5,\n",
    "      3,4,2,5,2,2,3,4,2,1,3,2,1,1,1,1,1,3,0,0,1,0,1,1,0,0,3,1,\n",
    "      0,3,2,2,0,1,1,1,0,1,0,1,0,0,0,2,1,0,0,0,1,1,0,2,2,3,1,1,\n",
    "      2,1,1,1,1,2,4,2,0,0,0,1,4,0,0,0,1,0,0,0,0,0,1,0,0,1,0,0]\n",
    "for i in range(T-1):\n",
    "    if i+1 < s:\n",
    "        observe(exponential(e), y[i])\n",
    "    elif i == s:\n",
    "        observe(exponential(1), y[i])\n",
    "    else:\n",
    "        observe(exponential(2), y[i])\n",
    "[e,l,s]\n",
    "\"\"\"\n"
   ]
  },
  {
   "cell_type": "code",
   "execution_count": 48,
   "metadata": {},
   "outputs": [],
   "source": [
    "compiled_python = compile_model(model_coal_mining, language='python')"
   ]
  },
  {
   "cell_type": "code",
   "execution_count": 49,
   "metadata": {},
   "outputs": [
    {
     "name": "stdout",
     "output_type": "stream",
     "text": [
      "# 2018-09-20 13:16:40.591321\n",
      "import torch\n",
      "import torch.distributions as dist\n",
      "\n",
      "\n",
      "class Model():\n",
      "\n",
      "\tdef __init__(self, vertices: set, arcs: set, data: set, conditionals: set):\n",
      "\t\tsuper().__init__()\n",
      "\t\tself.vertices = vertices\n",
      "\t\tself.arcs = arcs\n",
      "\t\tself.data = data\n",
      "\t\tself.conditionals = conditionals\n",
      "\t\n",
      "\tdef __repr__(self):\n",
      "\t\tV = '\\n'.join(sorted([repr(v) for v in self.vertices]))\n",
      "\t\tA = ', '.join(['({}, {})'.format(u.name, v.name) for (u, v) in self.arcs]) if len(self.arcs) > 0 else '  -'\n",
      "\t\tC = '\\n'.join(sorted([repr(v) for v in self.conditionals])) if len(self.conditionals) > 0 else '  -'\n",
      "\t\tD = '\\n'.join([repr(u) for u in self.data]) if len(self.data) > 0 else '  -'\n",
      "\t\tgraph = 'Vertices V:\\n{V}\\nArcs A:\\n  {A}\\n\\nConditions C:\\n{C}\\n\\nData D:\\n{D}\\n'.format(V=V, A=A, C=C, D=D)\n",
      "\t\tgraph = '#Vertices: {}, #Arcs: {}\\n'.format(len(self.vertices), len(self.arcs)) + graph\n",
      "\t\treturn graph\n",
      "\t\n",
      "\tdef gen_cond_bit_vector(self, state):\n",
      "\t\tresult = 0\n",
      "\t\tfor cond in self.conditionals:\n",
      "\t\t\tresult = cond.update_bit_vector(state, result)\n",
      "\t\treturn result\n",
      "\n",
      "\tdef gen_cond_vars(self):\n",
      "\t\treturn [c.name for c in self.conditionals]\n",
      "\n",
      "\tdef gen_cont_vars(self):\n",
      "\t\treturn [v.name for v in self.vertices if v.is_continuous and not v.is_conditional and v.is_sampled]\n",
      "\n",
      "\tdef gen_disc_vars(self):\n",
      "\t\treturn [v.name for v in self.vertices if v.is_discrete and v.is_sampled]\n",
      "\n",
      "\tdef gen_if_vars(self):\n",
      "\t\treturn [v.name for v in self.vertices if v.is_conditional and v.is_sampled and v.is_continuous]\n",
      "\n",
      "\tdef gen_log_prob(self, state):\n",
      "\t\tlog_prob = 0\n",
      "\t\tdst_ = dist.Exponential(rate=1)\n",
      "\t\tlog_prob = log_prob + dst_.log_prob(state['x30001'])\n",
      "\t\tlog_prob = log_prob + dst_.log_prob(state['x30002'])\n",
      "\t\tdst_ = dist.Uniform(low=0, high=10)\n",
      "\t\tlog_prob = log_prob + dst_.log_prob(state['x30003'])\n",
      "\t\tstate['cond_30004'] = (1 < state['x30003'])\n",
      "\t\tdst_ = dist.Exponential(rate=state['x30001'])\n",
      "\t\tif state['cond_30004']:\n",
      "\t\t\tlog_prob = log_prob + dst_.log_prob(state['y30005'])\n",
      "\t\tstate['cond_30006'] = (0 == state['x30003'])\n",
      "\t\tdst_ = dist.Exponential(rate=1)\n",
      "\t\tif state['cond_30006'] and not state['cond_30004']:\n",
      "\t\t\tlog_prob = log_prob + dst_.log_prob(state['y30007'])\n",
      "\t\tdst_ = dist.Exponential(rate=2)\n",
      "\t\tif not state['cond_30004'] and not state['cond_30006']:\n",
      "\t\t\tlog_prob = log_prob + dst_.log_prob(state['y30008'])\n",
      "\t\tstate['cond_30009'] = (2 < state['x30003'])\n",
      "\t\tdst_ = dist.Exponential(rate=state['x30001'])\n",
      "\t\tif state['cond_30009']:\n",
      "\t\t\tlog_prob = log_prob + dst_.log_prob(state['y30010'])\n",
      "\t\tstate['cond_30011'] = (1 == state['x30003'])\n",
      "\t\tdst_ = dist.Exponential(rate=1)\n",
      "\t\tif state['cond_30011'] and not state['cond_30009']:\n",
      "\t\t\tlog_prob = log_prob + dst_.log_prob(state['y30012'])\n",
      "\t\tdst_ = dist.Exponential(rate=2)\n",
      "\t\tif not state['cond_30009'] and not state['cond_30011']:\n",
      "\t\t\tlog_prob = log_prob + dst_.log_prob(state['y30013'])\n",
      "\t\tstate['cond_30014'] = (3 < state['x30003'])\n",
      "\t\tdst_ = dist.Exponential(rate=state['x30001'])\n",
      "\t\tif state['cond_30014']:\n",
      "\t\t\tlog_prob = log_prob + dst_.log_prob(state['y30015'])\n",
      "\t\tstate['cond_30016'] = (2 == state['x30003'])\n",
      "\t\tdst_ = dist.Exponential(rate=1)\n",
      "\t\tif state['cond_30016'] and not state['cond_30014']:\n",
      "\t\t\tlog_prob = log_prob + dst_.log_prob(state['y30017'])\n",
      "\t\tdst_ = dist.Exponential(rate=2)\n",
      "\t\tif not state['cond_30016'] and not state['cond_30014']:\n",
      "\t\t\tlog_prob = log_prob + dst_.log_prob(state['y30018'])\n",
      "\t\tstate['cond_30019'] = (4 < state['x30003'])\n",
      "\t\tdst_ = dist.Exponential(rate=state['x30001'])\n",
      "\t\tif state['cond_30019']:\n",
      "\t\t\tlog_prob = log_prob + dst_.log_prob(state['y30020'])\n",
      "\t\tstate['cond_30021'] = (3 == state['x30003'])\n",
      "\t\tdst_ = dist.Exponential(rate=1)\n",
      "\t\tif not state['cond_30019'] and state['cond_30021']:\n",
      "\t\t\tlog_prob = log_prob + dst_.log_prob(state['y30022'])\n",
      "\t\tdst_ = dist.Exponential(rate=2)\n",
      "\t\tif not state['cond_30021'] and not state['cond_30019']:\n",
      "\t\t\tlog_prob = log_prob + dst_.log_prob(state['y30023'])\n",
      "\t\tstate['cond_30024'] = (5 < state['x30003'])\n",
      "\t\tdst_ = dist.Exponential(rate=state['x30001'])\n",
      "\t\tif state['cond_30024']:\n",
      "\t\t\tlog_prob = log_prob + dst_.log_prob(state['y30025'])\n",
      "\t\tstate['cond_30026'] = (4 == state['x30003'])\n",
      "\t\tdst_ = dist.Exponential(rate=1)\n",
      "\t\tif state['cond_30026'] and not state['cond_30024']:\n",
      "\t\t\tlog_prob = log_prob + dst_.log_prob(state['y30027'])\n",
      "\t\tdst_ = dist.Exponential(rate=2)\n",
      "\t\tif not state['cond_30024'] and not state['cond_30026']:\n",
      "\t\t\tlog_prob = log_prob + dst_.log_prob(state['y30028'])\n",
      "\t\tstate['cond_30029'] = (6 < state['x30003'])\n",
      "\t\tdst_ = dist.Exponential(rate=state['x30001'])\n",
      "\t\tif state['cond_30029']:\n",
      "\t\t\tlog_prob = log_prob + dst_.log_prob(state['y30030'])\n",
      "\t\tstate['cond_30031'] = (5 == state['x30003'])\n",
      "\t\tdst_ = dist.Exponential(rate=1)\n",
      "\t\tif state['cond_30031'] and not state['cond_30029']:\n",
      "\t\t\tlog_prob = log_prob + dst_.log_prob(state['y30032'])\n",
      "\t\tdst_ = dist.Exponential(rate=2)\n",
      "\t\tif not state['cond_30029'] and not state['cond_30031']:\n",
      "\t\t\tlog_prob = log_prob + dst_.log_prob(state['y30033'])\n",
      "\t\tstate['cond_30034'] = (7 < state['x30003'])\n",
      "\t\tdst_ = dist.Exponential(rate=state['x30001'])\n",
      "\t\tif state['cond_30034']:\n",
      "\t\t\tlog_prob = log_prob + dst_.log_prob(state['y30035'])\n",
      "\t\tstate['cond_30036'] = (6 == state['x30003'])\n",
      "\t\tdst_ = dist.Exponential(rate=1)\n",
      "\t\tif not state['cond_30034'] and state['cond_30036']:\n",
      "\t\t\tlog_prob = log_prob + dst_.log_prob(state['y30037'])\n",
      "\t\tdst_ = dist.Exponential(rate=2)\n",
      "\t\tif not state['cond_30034'] and not state['cond_30036']:\n",
      "\t\t\tlog_prob = log_prob + dst_.log_prob(state['y30038'])\n",
      "\t\tstate['cond_30039'] = (8 < state['x30003'])\n",
      "\t\tdst_ = dist.Exponential(rate=state['x30001'])\n",
      "\t\tif state['cond_30039']:\n",
      "\t\t\tlog_prob = log_prob + dst_.log_prob(state['y30040'])\n",
      "\t\tstate['cond_30041'] = (7 == state['x30003'])\n",
      "\t\tdst_ = dist.Exponential(rate=1)\n",
      "\t\tif not state['cond_30039'] and state['cond_30041']:\n",
      "\t\t\tlog_prob = log_prob + dst_.log_prob(state['y30042'])\n",
      "\t\tdst_ = dist.Exponential(rate=2)\n",
      "\t\tif not state['cond_30039'] and not state['cond_30041']:\n",
      "\t\t\tlog_prob = log_prob + dst_.log_prob(state['y30043'])\n",
      "\t\tstate['cond_30044'] = (9 < state['x30003'])\n",
      "\t\tdst_ = dist.Exponential(rate=state['x30001'])\n",
      "\t\tif state['cond_30044']:\n",
      "\t\t\tlog_prob = log_prob + dst_.log_prob(state['y30045'])\n",
      "\t\tstate['cond_30046'] = (8 == state['x30003'])\n",
      "\t\tdst_ = dist.Exponential(rate=1)\n",
      "\t\tif not state['cond_30044'] and state['cond_30046']:\n",
      "\t\t\tlog_prob = log_prob + dst_.log_prob(state['y30047'])\n",
      "\t\tdst_ = dist.Exponential(rate=2)\n",
      "\t\tif not state['cond_30046'] and not state['cond_30044']:\n",
      "\t\t\tlog_prob = log_prob + dst_.log_prob(state['y30048'])\n",
      "\t\treturn log_prob\n",
      "\n",
      "\tdef gen_prior_samples(self):\n",
      "\t\tstate = {}\n",
      "\t\tdst_ = dist.Exponential(rate=1)\n",
      "\t\tstate['x30001'] = dst_.sample()\n",
      "\t\tstate['x30002'] = dst_.sample()\n",
      "\t\tdst_ = dist.Uniform(low=0, high=10)\n",
      "\t\tstate['x30003'] = dst_.sample()\n",
      "\t\tstate['cond_30004'] = (1 < state['x30003'])\n",
      "\t\tdst_ = dist.Exponential(rate=state['x30001'])\n",
      "\t\tstate['y30005'] = 4\n",
      "\t\tstate['cond_30006'] = (0 == state['x30003'])\n",
      "\t\tdst_ = dist.Exponential(rate=1)\n",
      "\t\tstate['y30007'] = 4\n",
      "\t\tdst_ = dist.Exponential(rate=2)\n",
      "\t\tstate['y30008'] = 4\n",
      "\t\tstate['cond_30009'] = (2 < state['x30003'])\n",
      "\t\tdst_ = dist.Exponential(rate=state['x30001'])\n",
      "\t\tstate['y30010'] = 5\n",
      "\t\tstate['cond_30011'] = (1 == state['x30003'])\n",
      "\t\tdst_ = dist.Exponential(rate=1)\n",
      "\t\tstate['y30012'] = 5\n",
      "\t\tdst_ = dist.Exponential(rate=2)\n",
      "\t\tstate['y30013'] = 5\n",
      "\t\tstate['cond_30014'] = (3 < state['x30003'])\n",
      "\t\tdst_ = dist.Exponential(rate=state['x30001'])\n",
      "\t\tstate['y30015'] = 4\n",
      "\t\tstate['cond_30016'] = (2 == state['x30003'])\n",
      "\t\tdst_ = dist.Exponential(rate=1)\n",
      "\t\tstate['y30017'] = 4\n",
      "\t\tdst_ = dist.Exponential(rate=2)\n",
      "\t\tstate['y30018'] = 4\n",
      "\t\tstate['cond_30019'] = (4 < state['x30003'])\n",
      "\t\tdst_ = dist.Exponential(rate=state['x30001'])\n",
      "\t\tstate['y30020'] = 1\n",
      "\t\tstate['cond_30021'] = (3 == state['x30003'])\n",
      "\t\tdst_ = dist.Exponential(rate=1)\n",
      "\t\tstate['y30022'] = 1\n",
      "\t\tdst_ = dist.Exponential(rate=2)\n",
      "\t\tstate['y30023'] = 1\n",
      "\t\tstate['cond_30024'] = (5 < state['x30003'])\n",
      "\t\tdst_ = dist.Exponential(rate=state['x30001'])\n",
      "\t\tstate['y30025'] = 0\n",
      "\t\tstate['cond_30026'] = (4 == state['x30003'])\n",
      "\t\tdst_ = dist.Exponential(rate=1)\n",
      "\t\tstate['y30027'] = 0\n",
      "\t\tdst_ = dist.Exponential(rate=2)\n",
      "\t\tstate['y30028'] = 0\n",
      "\t\tstate['cond_30029'] = (6 < state['x30003'])\n",
      "\t\tdst_ = dist.Exponential(rate=state['x30001'])\n",
      "\t\tstate['y30030'] = 4\n",
      "\t\tstate['cond_30031'] = (5 == state['x30003'])\n",
      "\t\tdst_ = dist.Exponential(rate=1)\n",
      "\t\tstate['y30032'] = 4\n",
      "\t\tdst_ = dist.Exponential(rate=2)\n",
      "\t\tstate['y30033'] = 4\n",
      "\t\tstate['cond_30034'] = (7 < state['x30003'])\n",
      "\t\tdst_ = dist.Exponential(rate=state['x30001'])\n",
      "\t\tstate['y30035'] = 3\n",
      "\t\tstate['cond_30036'] = (6 == state['x30003'])\n",
      "\t\tdst_ = dist.Exponential(rate=1)\n",
      "\t\tstate['y30037'] = 3\n",
      "\t\tdst_ = dist.Exponential(rate=2)\n",
      "\t\tstate['y30038'] = 3\n",
      "\t\tstate['cond_30039'] = (8 < state['x30003'])\n",
      "\t\tdst_ = dist.Exponential(rate=state['x30001'])\n",
      "\t\tstate['y30040'] = 4\n",
      "\t\tstate['cond_30041'] = (7 == state['x30003'])\n",
      "\t\tdst_ = dist.Exponential(rate=1)\n",
      "\t\tstate['y30042'] = 4\n",
      "\t\tdst_ = dist.Exponential(rate=2)\n",
      "\t\tstate['y30043'] = 4\n",
      "\t\tstate['cond_30044'] = (9 < state['x30003'])\n",
      "\t\tdst_ = dist.Exponential(rate=state['x30001'])\n",
      "\t\tstate['y30045'] = 0\n",
      "\t\tstate['cond_30046'] = (8 == state['x30003'])\n",
      "\t\tdst_ = dist.Exponential(rate=1)\n",
      "\t\tstate['y30047'] = 0\n",
      "\t\tdst_ = dist.Exponential(rate=2)\n",
      "\t\tstate['y30048'] = 0\n",
      "\t\treturn state\n",
      "\n",
      "\tdef get_arcs(self):\n",
      "\t\treturn self.arcs\n",
      "\n",
      "\tdef get_arcs_names(self):\n",
      "\t\treturn [(u.name, v.name) for (u, v) in self.arcs]\n",
      "\n",
      "\tdef get_conditions(self):\n",
      "\t\treturn self.conditionals\n",
      "\n",
      "\tdef get_vars(self):\n",
      "\t\treturn [v.name for v in self.vertices if v.is_sampled]\n",
      "\n",
      "\tdef get_vertices(self):\n",
      "\t\treturn self.vertices\n",
      "\n",
      "\tdef get_vertices_names(self):\n",
      "\t\treturn [v.name for v in self.vertices]\n",
      "\n",
      "\tdef is_torch_imported(self):\n",
      "\t\timport sys \n",
      "\t\tprint('torch' in sys.modules) \n",
      "\t\tprint(torch.__version__) \n",
      "\t\tprint(type(torch.tensor)) \n",
      "\t\timport inspect \n",
      "\t\tprint(inspect.getfile(torch))\n",
      "\n"
     ]
    }
   ],
   "source": [
    "print(compiled_python.code)"
   ]
  },
  {
   "cell_type": "markdown",
   "metadata": {},
   "source": [
    "## The dependency graph"
   ]
  },
  {
   "cell_type": "code",
   "execution_count": 44,
   "metadata": {},
   "outputs": [
    {
     "data": {
      "image/png": "[encoded data removed]",
      "text/plain": [
       "<Figure size 432x288 with 1 Axes>"
      ]
     },
     "metadata": {
      "needs_background": "light"
     },
     "output_type": "display_data"
    }
   ],
   "source": [
    "vertices = compiled_python.vertices\n",
    "create_network_graph(vertices=vertices)\n",
    "display_graph(vertices=vertices);"
   ]
  },
  {
   "cell_type": "markdown",
   "metadata": {},
   "source": [
    "## Other types of analytic functions"
   ]
  },
  {
   "cell_type": "code",
   "execution_count": 32,
   "metadata": {},
   "outputs": [
    {
     "name": "stdout",
     "output_type": "stream",
     "text": [
      "# 2018-10-01 07:57:48.462616\n",
      "import torch\n",
      "import torch.distributions as dist\n",
      "\n",
      "\n",
      "class Model():\n",
      "\n",
      "\tdef __init__(self, vertices: set, arcs: set, data: set, conditionals: set):\n",
      "\t\tsuper().__init__()\n",
      "\t\tself.vertices = vertices\n",
      "\t\tself.arcs = arcs\n",
      "\t\tself.data = data\n",
      "\t\tself.conditionals = conditionals\n",
      "\t\n",
      "\tdef __repr__(self):\n",
      "\t\tV = '\\n'.join(sorted([repr(v) for v in self.vertices]))\n",
      "\t\tA = ', '.join(['({}, {})'.format(u.name, v.name) for (u, v) in self.arcs]) if len(self.arcs) > 0 else '  -'\n",
      "\t\tC = '\\n'.join(sorted([repr(v) for v in self.conditionals])) if len(self.conditionals) > 0 else '  -'\n",
      "\t\tD = '\\n'.join([repr(u) for u in self.data]) if len(self.data) > 0 else '  -'\n",
      "\t\tgraph = 'Vertices V:\\n{V}\\nArcs A:\\n  {A}\\n\\nConditions C:\\n{C}\\n\\nData D:\\n{D}\\n'.format(V=V, A=A, C=C, D=D)\n",
      "\t\tgraph = '#Vertices: {}, #Arcs: {}\\n'.format(len(self.vertices), len(self.arcs)) + graph\n",
      "\t\treturn graph\n",
      "\t\n",
      "\tdef gen_cond_bit_vector(self, state):\n",
      "\t\tresult = 0\n",
      "\t\tfor cond in self.conditionals:\n",
      "\t\t\tresult = cond.update_bit_vector(state, result)\n",
      "\t\treturn result\n",
      "\n",
      "\tdef gen_cond_vars(self):\n",
      "\t\treturn [c.name for c in self.conditionals]\n",
      "\n",
      "\tdef gen_cont_vars(self):\n",
      "\t\treturn [v.name for v in self.vertices if v.is_continuous and not v.is_conditional and v.is_sampled]\n",
      "\n",
      "\tdef gen_disc_vars(self):\n",
      "\t\treturn [v.name for v in self.vertices if v.is_discrete and v.is_sampled]\n",
      "\n",
      "\tdef gen_if_vars(self):\n",
      "\t\treturn [v.name for v in self.vertices if v.is_conditional and v.is_sampled and v.is_continuous]\n",
      "\n",
      "\tdef gen_log_prob(self, state):\n",
      "\t\tlog_prob = 0\n",
      "\t\tdst_ = dist.Exp(values=3)\n",
      "\t\tlog_prob = log_prob + dst_.log_prob(state['x30001'])\n",
      "\t\tdst_ = dist.Gamma(alpha=state['x30001'], beta=1)\n",
      "\t\tlog_prob = log_prob + dst_.log_prob(state['x30002'])\n",
      "\t\tdst_ = dist.Log(values=((state['x30002'] * state['x30002']) + 1))\n",
      "\t\tlog_prob = log_prob + dst_.log_prob(state['y30003'])\n",
      "\t\treturn log_prob\n",
      "\n",
      "\tdef gen_prior_samples(self):\n",
      "\t\tstate = {}\n",
      "\t\tdst_ = dist.Exp(values=3)\n",
      "\t\tstate['x30001'] = dst_.sample()\n",
      "\t\tdst_ = dist.Gamma(alpha=state['x30001'], beta=1)\n",
      "\t\tstate['x30002'] = dst_.sample()\n",
      "\t\tdst_ = dist.Log(values=((state['x30002'] * state['x30002']) + 1))\n",
      "\t\tstate['y30003'] = 10\n",
      "\t\treturn state\n",
      "\n",
      "\tdef get_arcs(self):\n",
      "\t\treturn self.arcs\n",
      "\n",
      "\tdef get_arcs_names(self):\n",
      "\t\treturn [(u.name, v.name) for (u, v) in self.arcs]\n",
      "\n",
      "\tdef get_conditions(self):\n",
      "\t\treturn self.conditionals\n",
      "\n",
      "\tdef get_vars(self):\n",
      "\t\treturn [v.name for v in self.vertices if v.is_sampled]\n",
      "\n",
      "\tdef get_vertices(self):\n",
      "\t\treturn self.vertices\n",
      "\n",
      "\tdef get_vertices_names(self):\n",
      "\t\treturn [v.name for v in self.vertices]\n",
      "\n",
      "\tdef is_torch_imported(self):\n",
      "\t\timport sys \n",
      "\t\tprint('torch' in sys.modules) \n",
      "\t\tprint(torch.__version__) \n",
      "\t\tprint(type(torch.tensor)) \n",
      "\t\timport inspect \n",
      "\t\tprint(inspect.getfile(torch))\n",
      "\n"
     ]
    }
   ],
   "source": [
    "model_purepython=\"\"\"\n",
    "mean= sample(Exp(3))\n",
    "x= sample(gamma(mean,1))\n",
    "y= 10\n",
    "observe(Log(x*x+1), y)\n",
    "\"\"\"\n",
    "compiled_python = compile_model(model_purepython, language='python')\n",
    "\n",
    "print(compiled_python.code)"
   ]
  },
  {
   "cell_type": "markdown",
   "metadata": {},
   "source": [
    "I would like to thank [Andrea Patanè](http://www.cs.ox.ac.uk/people/andrea.patane/), [Sasha Salter](http://ori.ox.ac.uk/mrg_people/sasha-salter/) and Saeid Naderiparizi for proof reading the post."
   ]
  },
  {
   "cell_type": "code",
   "execution_count": 3,
   "metadata": {},
   "outputs": [
    {
     "name": "stderr",
     "output_type": "stream",
     "text": [
      "/Users/bradley/Documents/Projects/Pyfo_project/PySPPL/pyppl/backend/ppl_graph_factory.py:105: UserWarning: **********compiler cannot guarentee that the function is analytic, as factor is being called**********\n",
      "\n",
      "  result = Vertex(name, ancestors=parents, distribution_code=d_code, distribution_name=_get_dist_name(dist),\n"
     ]
    }
   ],
   "source": [
    "model_rrhmc_clojure=\"\"\"\n",
    "(let [x (sample (uniform -6 6))\n",
    "       absx (max x (- x))\n",
    "       A 0.1\n",
    "       z (- (sqrt (* x (* A x))))]\n",
    " (if (< (- absx 3) 0)\n",
    "     (observe (factor_cont z) 0)\n",
    "     (observe (factor_cont (- z 1)) 0))\n",
    " x)\n",
    "\"\"\"\n",
    "\n",
    "model_rrhmc_python= \"\"\"\n",
    "import torch\n",
    "x = sample(uniform(-6,6))\n",
    "absx = max(x, -x)\n",
    "A = 0.1\n",
    "z = -torch.sqrt(x*A*x)\n",
    "if absx-3 < 0:\n",
    "    observe(factor_cont(z),0)\n",
    "    observe(factor_cont(z-1),0)\n",
    "\"\"\"\n",
    "compiled_clojure = compile_model(model_rrhmc_clojure, language='clojure')\n",
    "compiled_python = compile_model(model_rrhmc_python, language='python')"
   ]
  },
  {
   "cell_type": "code",
   "execution_count": 4,
   "metadata": {},
   "outputs": [
    {
     "name": "stdout",
     "output_type": "stream",
     "text": [
      "#Vertices: 3, #Arcs: 2\n",
      "Vertices V:\n",
      "Vertex x30001 [Sample]\n",
      "  Name:           x30001\n",
      "  Ancestors:      \n",
      "  Cond-Ancs.:     \n",
      "  Dist-Args:      {'low': '-6', 'high': '6'}\n",
      "  Dist-Code:      dist.Uniform(-6, 6)\n",
      "  Dist-Name:      Uniform\n",
      "  Dist-Type:      DistributionType.CONTINUOUS\n",
      "  Sample-Size:    1\n",
      "  Orig. Name:     x\n",
      "Vertex y30003 [Observe]\n",
      "  Name:           y30003\n",
      "  Ancestors:      x30001\n",
      "  Conditions:     cond_30002=True\n",
      "  Cond-Ancs.:     x30001\n",
      "  Cond-Nodes:     cond_30002\n",
      "  Dist-Args:      {'log_p': \"-torch.sqrt(((state['x30001'] * 0.1) * state['x30001']))\"}\n",
      "  Dist-Code:      dist.factor_cont(-torch.sqrt(((state['x30001'] * 0.1) * state['x30001'])))\n",
      "  Dist-Name:      factor_cont\n",
      "  Dist-Type:      DistributionType.CONTINUOUS\n",
      "  Sample-Size:    1\n",
      "  Observation:    0\n",
      "Vertex y30004 [Observe]\n",
      "  Name:           y30004\n",
      "  Ancestors:      x30001\n",
      "  Conditions:     cond_30002=True\n",
      "  Cond-Ancs.:     x30001\n",
      "  Cond-Nodes:     cond_30002\n",
      "  Dist-Args:      {'log_p': \"(-torch.sqrt(((state['x30001'] * 0.1) * state['x30001'])) + -1)\"}\n",
      "  Dist-Code:      dist.factor_cont((-torch.sqrt(((state['x30001'] * 0.1) * state['x30001'])) + -1))\n",
      "  Dist-Name:      factor_cont\n",
      "  Dist-Type:      DistributionType.CONTINUOUS\n",
      "  Sample-Size:    1\n",
      "  Observation:    0\n",
      "Arcs A:\n",
      "  (x30001, y30003), (x30001, y30004)\n",
      "\n",
      "Conditions C:\n",
      "Condition\n",
      "  Name:         cond_30002\n",
      "  Ancestors:    x30001\n",
      "  Condition:    ((max(state['x30001'], -state['x30001']) + -3) < 0)\n",
      "  Function:     (max(state['x30001'], -state['x30001']) + -3)\n",
      "  Op:           <\n",
      "\n",
      "Data D:\n",
      "  -\n",
      "\n"
     ]
    }
   ],
   "source": [
    "print(compiled_python)"
   ]
  },
  {
   "cell_type": "code",
   "execution_count": null,
   "metadata": {},
   "outputs": [],
   "source": []
  },
  {
   "cell_type": "code",
   "execution_count": 20,
   "metadata": {},
   "outputs": [],
   "source": [
    "def fact_cont(log_p=None):\n",
    "    import math\n",
    "    return math.exp(log_p)\n",
    "def fact_disc(log_p=None):\n",
    "    import math\n",
    "    return math.exp(log_p)\n",
    "    "
   ]
  },
  {
   "cell_type": "code",
   "execution_count": null,
   "metadata": {},
   "outputs": [],
   "source": []
  }
 ],
 "metadata": {
  "kernelspec": {
   "display_name": "Python 3",
   "language": "python",
   "name": "python3"
  },
  "language_info": {
   "codemirror_mode": {
    "name": "ipython",
    "version": 3
   },
   "file_extension": ".py",
   "mimetype": "text/x-python",
   "name": "python",
   "nbconvert_exporter": "python",
   "pygments_lexer": "ipython3",
   "version": "3.6.6"
  }
 },
 "nbformat": 4,
 "nbformat_minor": 2
}
